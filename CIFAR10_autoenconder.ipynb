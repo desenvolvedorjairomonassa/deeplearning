{
  "cells": [
    {
      "cell_type": "markdown",
      "metadata": {
        "id": "wq42pgyqLm3L"
      },
      "source": [
        "# What is an Autoencoder?\n",
        "An autoencoder is a type of artificial neural network used to learn efficient representations of data, typically for the purpose of dimensionality reduction or feature learning\n",
        "\n",
        "## CIFAR 10\n",
        "\n",
        "CIFAR-10 dataset consistis of 6 millions of class, those images 32x32 colours\n",
        "\n",
        "site: https://www.cs.toronto.edu/~kriz/cifar.html"
      ]
    },
    {
      "cell_type": "code",
      "execution_count": 14,
      "metadata": {
        "id": "g-m1YjJALg0f"
      },
      "outputs": [],
      "source": [
        "import matplotlib.pyplot as plt\n",
        "import numpy as np\n",
        "from keras.datasets import mnist\n",
        "from keras.models import Sequential, Model\n",
        "from keras.layers import Input, Dense, Conv2D, MaxPooling2D, UpSampling2D, Flatten, Reshape\n",
        "from keras import regularizers\n",
        "import time\n",
        "from keras.datasets import cifar10"
      ]
    },
    {
      "cell_type": "code",
      "execution_count": null,
      "metadata": {
        "colab": {
          "base_uri": "https://localhost:8080/"
        },
        "id": "3JOU5CSzMJHS",
        "outputId": "37415660-08eb-42f4-804f-42e46f60ce7d"
      },
      "outputs": [
        {
          "name": "stdout",
          "output_type": "stream",
          "text": [
            "TensorFlow version: 2.17.0\n",
            "Keras version: 3.4.1\n"
          ]
        }
      ],
      "source": [
        "# VERSION\n",
        "import tensorflow as tf\n",
        "print(\"TensorFlow version:\", tf.__version__)\n",
        "\n",
        "import keras\n",
        "print(\"Keras version:\", keras.__version__)"
      ]
    },
    {
      "cell_type": "code",
      "execution_count": null,
      "metadata": {
        "colab": {
          "base_uri": "https://localhost:8080/"
        },
        "id": "rOioHYLDMP26",
        "outputId": "955e8fd0-7cff-4acf-db3c-3c8a0fd9b5b4"
      },
      "outputs": [
        {
          "name": "stdout",
          "output_type": "stream",
          "text": [
            "Downloading data from https://www.cs.toronto.edu/~kriz/cifar-10-python.tar.gz\n",
            "\u001b[1m170498071/170498071\u001b[0m \u001b[32m━━━━━━━━━━━━━━━━━━━━\u001b[0m\u001b[37m\u001b[0m \u001b[1m2s\u001b[0m 0us/step\n"
          ]
        }
      ],
      "source": [
        "(X_train, y_train), (X_test, y_test) = cifar10.load_data()"
      ]
    },
    {
      "cell_type": "code",
      "execution_count": null,
      "metadata": {
        "colab": {
          "base_uri": "https://localhost:8080/"
        },
        "id": "LHM8ul2eMUFT",
        "outputId": "5fb7432b-cdf8-4963-a360-d1305436886e"
      },
      "outputs": [
        {
          "data": {
            "text/plain": [
              "(50000, 32, 32, 3)"
            ]
          },
          "execution_count": 5,
          "metadata": {},
          "output_type": "execute_result"
        }
      ],
      "source": [
        "X_train.shape"
      ]
    },
    {
      "cell_type": "code",
      "execution_count": null,
      "metadata": {
        "colab": {
          "base_uri": "https://localhost:8080/",
          "height": 71
        },
        "id": "Vzm6YlMPMXXE",
        "outputId": "7e1b9a6d-cf1b-471b-e576-bcb41564b02e"
      },
      "outputs": [
        {
          "data": {
            "text/html": [
              "<style>\n",
              "      .ndarray_repr .ndarray_raw_data {\n",
              "        display: none;\n",
              "      }\n",
              "      .ndarray_repr.show_array .ndarray_raw_data {\n",
              "        display: block;\n",
              "      }\n",
              "      .ndarray_repr.show_array .ndarray_image_preview {\n",
              "        display: none;\n",
              "      }\n",
              "      </style>\n",
              "      <div id=\"id-35388f23-78ee-4c9c-b0f4-e819bf2456e8\" class=\"ndarray_repr\"><pre>ndarray (32, 32, 3) <button style=\"padding: 0 2px;\">show data</button></pre><img src=\"data:image/png;base64,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\" class=\"ndarray_image_preview\" /><pre class=\"ndarray_raw_data\">array([[[255, 255, 255],\n",
              "        [253, 253, 253],\n",
              "        [253, 253, 253],\n",
              "        ...,\n",
              "        [253, 253, 253],\n",
              "        [253, 253, 253],\n",
              "        [253, 253, 253]],\n",
              "\n",
              "       [[255, 255, 255],\n",
              "        [255, 255, 255],\n",
              "        [255, 255, 255],\n",
              "        ...,\n",
              "        [255, 255, 255],\n",
              "        [255, 255, 255],\n",
              "        [255, 255, 255]],\n",
              "\n",
              "       [[255, 255, 255],\n",
              "        [254, 254, 254],\n",
              "        [254, 254, 254],\n",
              "        ...,\n",
              "        [254, 254, 254],\n",
              "        [254, 254, 254],\n",
              "        [254, 254, 254]],\n",
              "\n",
              "       ...,\n",
              "\n",
              "       [[113, 120, 112],\n",
              "        [111, 118, 111],\n",
              "        [105, 112, 106],\n",
              "        ...,\n",
              "        [ 72,  81,  80],\n",
              "        [ 72,  80,  79],\n",
              "        [ 72,  80,  79]],\n",
              "\n",
              "       [[111, 118, 110],\n",
              "        [104, 111, 104],\n",
              "        [ 99, 106,  98],\n",
              "        ...,\n",
              "        [ 68,  75,  73],\n",
              "        [ 70,  76,  75],\n",
              "        [ 78,  84,  82]],\n",
              "\n",
              "       [[106, 113, 105],\n",
              "        [ 99, 106,  98],\n",
              "        [ 95, 102,  94],\n",
              "        ...,\n",
              "        [ 78,  85,  83],\n",
              "        [ 79,  85,  83],\n",
              "        [ 80,  86,  84]]], dtype=uint8)</pre></div><script>\n",
              "      (() => {\n",
              "      const titles = ['show data', 'hide data'];\n",
              "      let index = 0\n",
              "      document.querySelector('#id-35388f23-78ee-4c9c-b0f4-e819bf2456e8 button').onclick = (e) => {\n",
              "        document.querySelector('#id-35388f23-78ee-4c9c-b0f4-e819bf2456e8').classList.toggle('show_array');\n",
              "        index = (++index) % 2;\n",
              "        document.querySelector('#id-35388f23-78ee-4c9c-b0f4-e819bf2456e8 button').textContent = titles[index];\n",
              "        e.preventDefault();\n",
              "        e.stopPropagation();\n",
              "      }\n",
              "      })();\n",
              "    </script>"
            ],
            "text/plain": [
              "array([[[255, 255, 255],\n",
              "        [253, 253, 253],\n",
              "        [253, 253, 253],\n",
              "        ...,\n",
              "        [253, 253, 253],\n",
              "        [253, 253, 253],\n",
              "        [253, 253, 253]],\n",
              "\n",
              "       [[255, 255, 255],\n",
              "        [255, 255, 255],\n",
              "        [255, 255, 255],\n",
              "        ...,\n",
              "        [255, 255, 255],\n",
              "        [255, 255, 255],\n",
              "        [255, 255, 255]],\n",
              "\n",
              "       [[255, 255, 255],\n",
              "        [254, 254, 254],\n",
              "        [254, 254, 254],\n",
              "        ...,\n",
              "        [254, 254, 254],\n",
              "        [254, 254, 254],\n",
              "        [254, 254, 254]],\n",
              "\n",
              "       ...,\n",
              "\n",
              "       [[113, 120, 112],\n",
              "        [111, 118, 111],\n",
              "        [105, 112, 106],\n",
              "        ...,\n",
              "        [ 72,  81,  80],\n",
              "        [ 72,  80,  79],\n",
              "        [ 72,  80,  79]],\n",
              "\n",
              "       [[111, 118, 110],\n",
              "        [104, 111, 104],\n",
              "        [ 99, 106,  98],\n",
              "        ...,\n",
              "        [ 68,  75,  73],\n",
              "        [ 70,  76,  75],\n",
              "        [ 78,  84,  82]],\n",
              "\n",
              "       [[106, 113, 105],\n",
              "        [ 99, 106,  98],\n",
              "        [ 95, 102,  94],\n",
              "        ...,\n",
              "        [ 78,  85,  83],\n",
              "        [ 79,  85,  83],\n",
              "        [ 80,  86,  84]]], dtype=uint8)"
            ]
          },
          "execution_count": 6,
          "metadata": {},
          "output_type": "execute_result"
        }
      ],
      "source": [
        "# ARRAY\n",
        "X_train[2]"
      ]
    },
    {
      "cell_type": "code",
      "execution_count": null,
      "metadata": {
        "colab": {
          "base_uri": "https://localhost:8080/",
          "height": 447
        },
        "id": "LO5ui3ppMi2j",
        "outputId": "48a12b92-7545-4088-e19c-549309bc3d2b"
      },
      "outputs": [
        {
          "data": {
            "text/plain": [
              "<matplotlib.image.AxesImage at 0x7f3278d088b0>"
            ]
          },
          "execution_count": 7,
          "metadata": {},
          "output_type": "execute_result"
        },
        {
          "data": {
            "image/png": "[encoded data removed]",
            "text/plain": [
              "<Figure size 640x480 with 1 Axes>"
            ]
          },
          "metadata": {},
          "output_type": "display_data"
        }
      ],
      "source": [
        "plt.imshow(X_train[2])"
      ]
    },
    {
      "cell_type": "code",
      "execution_count": null,
      "metadata": {
        "colab": {
          "base_uri": "https://localhost:8080/",
          "height": 500
        },
        "id": "QFU2RmYQM4iG",
        "outputId": "6c82ea76-be20-47b1-e7dc-3cb49f734b9f"
      },
      "outputs": [
        {
          "data": {
            "text/html": [
              "<pre style=\"white-space:pre;overflow-x:auto;line-height:normal;font-family:Menlo,'DejaVu Sans Mono',consolas,'Courier New',monospace\"><span style=\"font-weight: bold\">Model: \"functional_2\"</span>\n",
              "</pre>\n"
            ],
            "text/plain": [
              "\u001b[1mModel: \"functional_2\"\u001b[0m\n"
            ]
          },
          "metadata": {},
          "output_type": "display_data"
        },
        {
          "data": {
            "text/html": [
              "<pre style=\"white-space:pre;overflow-x:auto;line-height:normal;font-family:Menlo,'DejaVu Sans Mono',consolas,'Courier New',monospace\">┏━━━━━━━━━━━━━━━━━━━━━━━━━━━━━━━━━━━━━━┳━━━━━━━━━━━━━━━━━━━━━━━━━━━━━┳━━━━━━━━━━━━━━━━━┓\n",
              "┃<span style=\"font-weight: bold\"> Layer (type)                         </span>┃<span style=\"font-weight: bold\"> Output Shape                </span>┃<span style=\"font-weight: bold\">         Param # </span>┃\n",
              "┡━━━━━━━━━━━━━━━━━━━━━━━━━━━━━━━━━━━━━━╇━━━━━━━━━━━━━━━━━━━━━━━━━━━━━╇━━━━━━━━━━━━━━━━━┩\n",
              "│ input_layer_3 (<span style=\"color: #0087ff; text-decoration-color: #0087ff\">InputLayer</span>)           │ (<span style=\"color: #00d7ff; text-decoration-color: #00d7ff\">None</span>, <span style=\"color: #00af00; text-decoration-color: #00af00\">32</span>, <span style=\"color: #00af00; text-decoration-color: #00af00\">32</span>, <span style=\"color: #00af00; text-decoration-color: #00af00\">3</span>)           │               <span style=\"color: #00af00; text-decoration-color: #00af00\">0</span> │\n",
              "├──────────────────────────────────────┼─────────────────────────────┼─────────────────┤\n",
              "│ conv2d_17 (<span style=\"color: #0087ff; text-decoration-color: #0087ff\">Conv2D</span>)                   │ (<span style=\"color: #00d7ff; text-decoration-color: #00d7ff\">None</span>, <span style=\"color: #00af00; text-decoration-color: #00af00\">32</span>, <span style=\"color: #00af00; text-decoration-color: #00af00\">32</span>, <span style=\"color: #00af00; text-decoration-color: #00af00\">32</span>)          │             <span style=\"color: #00af00; text-decoration-color: #00af00\">896</span> │\n",
              "├──────────────────────────────────────┼─────────────────────────────┼─────────────────┤\n",
              "│ max_pooling2d_6 (<span style=\"color: #0087ff; text-decoration-color: #0087ff\">MaxPooling2D</span>)       │ (<span style=\"color: #00d7ff; text-decoration-color: #00d7ff\">None</span>, <span style=\"color: #00af00; text-decoration-color: #00af00\">16</span>, <span style=\"color: #00af00; text-decoration-color: #00af00\">16</span>, <span style=\"color: #00af00; text-decoration-color: #00af00\">32</span>)          │               <span style=\"color: #00af00; text-decoration-color: #00af00\">0</span> │\n",
              "├──────────────────────────────────────┼─────────────────────────────┼─────────────────┤\n",
              "│ conv2d_18 (<span style=\"color: #0087ff; text-decoration-color: #0087ff\">Conv2D</span>)                   │ (<span style=\"color: #00d7ff; text-decoration-color: #00d7ff\">None</span>, <span style=\"color: #00af00; text-decoration-color: #00af00\">16</span>, <span style=\"color: #00af00; text-decoration-color: #00af00\">16</span>, <span style=\"color: #00af00; text-decoration-color: #00af00\">16</span>)          │           <span style=\"color: #00af00; text-decoration-color: #00af00\">4,624</span> │\n",
              "├──────────────────────────────────────┼─────────────────────────────┼─────────────────┤\n",
              "│ max_pooling2d_7 (<span style=\"color: #0087ff; text-decoration-color: #0087ff\">MaxPooling2D</span>)       │ (<span style=\"color: #00d7ff; text-decoration-color: #00d7ff\">None</span>, <span style=\"color: #00af00; text-decoration-color: #00af00\">8</span>, <span style=\"color: #00af00; text-decoration-color: #00af00\">8</span>, <span style=\"color: #00af00; text-decoration-color: #00af00\">16</span>)            │               <span style=\"color: #00af00; text-decoration-color: #00af00\">0</span> │\n",
              "├──────────────────────────────────────┼─────────────────────────────┼─────────────────┤\n",
              "│ conv2d_19 (<span style=\"color: #0087ff; text-decoration-color: #0087ff\">Conv2D</span>)                   │ (<span style=\"color: #00d7ff; text-decoration-color: #00d7ff\">None</span>, <span style=\"color: #00af00; text-decoration-color: #00af00\">8</span>, <span style=\"color: #00af00; text-decoration-color: #00af00\">8</span>, <span style=\"color: #00af00; text-decoration-color: #00af00\">8</span>)             │           <span style=\"color: #00af00; text-decoration-color: #00af00\">1,160</span> │\n",
              "├──────────────────────────────────────┼─────────────────────────────┼─────────────────┤\n",
              "│ conv2d_20 (<span style=\"color: #0087ff; text-decoration-color: #0087ff\">Conv2D</span>)                   │ (<span style=\"color: #00d7ff; text-decoration-color: #00d7ff\">None</span>, <span style=\"color: #00af00; text-decoration-color: #00af00\">8</span>, <span style=\"color: #00af00; text-decoration-color: #00af00\">8</span>, <span style=\"color: #00af00; text-decoration-color: #00af00\">8</span>)             │             <span style=\"color: #00af00; text-decoration-color: #00af00\">584</span> │\n",
              "├──────────────────────────────────────┼─────────────────────────────┼─────────────────┤\n",
              "│ up_sampling2d_6 (<span style=\"color: #0087ff; text-decoration-color: #0087ff\">UpSampling2D</span>)       │ (<span style=\"color: #00d7ff; text-decoration-color: #00d7ff\">None</span>, <span style=\"color: #00af00; text-decoration-color: #00af00\">16</span>, <span style=\"color: #00af00; text-decoration-color: #00af00\">16</span>, <span style=\"color: #00af00; text-decoration-color: #00af00\">8</span>)           │               <span style=\"color: #00af00; text-decoration-color: #00af00\">0</span> │\n",
              "├──────────────────────────────────────┼─────────────────────────────┼─────────────────┤\n",
              "│ conv2d_21 (<span style=\"color: #0087ff; text-decoration-color: #0087ff\">Conv2D</span>)                   │ (<span style=\"color: #00d7ff; text-decoration-color: #00d7ff\">None</span>, <span style=\"color: #00af00; text-decoration-color: #00af00\">16</span>, <span style=\"color: #00af00; text-decoration-color: #00af00\">16</span>, <span style=\"color: #00af00; text-decoration-color: #00af00\">16</span>)          │           <span style=\"color: #00af00; text-decoration-color: #00af00\">1,168</span> │\n",
              "├──────────────────────────────────────┼─────────────────────────────┼─────────────────┤\n",
              "│ up_sampling2d_7 (<span style=\"color: #0087ff; text-decoration-color: #0087ff\">UpSampling2D</span>)       │ (<span style=\"color: #00d7ff; text-decoration-color: #00d7ff\">None</span>, <span style=\"color: #00af00; text-decoration-color: #00af00\">32</span>, <span style=\"color: #00af00; text-decoration-color: #00af00\">32</span>, <span style=\"color: #00af00; text-decoration-color: #00af00\">16</span>)          │               <span style=\"color: #00af00; text-decoration-color: #00af00\">0</span> │\n",
              "├──────────────────────────────────────┼─────────────────────────────┼─────────────────┤\n",
              "│ conv2d_22 (<span style=\"color: #0087ff; text-decoration-color: #0087ff\">Conv2D</span>)                   │ (<span style=\"color: #00d7ff; text-decoration-color: #00d7ff\">None</span>, <span style=\"color: #00af00; text-decoration-color: #00af00\">32</span>, <span style=\"color: #00af00; text-decoration-color: #00af00\">32</span>, <span style=\"color: #00af00; text-decoration-color: #00af00\">3</span>)           │             <span style=\"color: #00af00; text-decoration-color: #00af00\">435</span> │\n",
              "└──────────────────────────────────────┴─────────────────────────────┴─────────────────┘\n",
              "</pre>\n"
            ],
            "text/plain": [
              "┏━━━━━━━━━━━━━━━━━━━━━━━━━━━━━━━━━━━━━━┳━━━━━━━━━━━━━━━━━━━━━━━━━━━━━┳━━━━━━━━━━━━━━━━━┓\n",
              "┃\u001b[1m \u001b[0m\u001b[1mLayer (type)                        \u001b[0m\u001b[1m \u001b[0m┃\u001b[1m \u001b[0m\u001b[1mOutput Shape               \u001b[0m\u001b[1m \u001b[0m┃\u001b[1m \u001b[0m\u001b[1m        Param #\u001b[0m\u001b[1m \u001b[0m┃\n",
              "┡━━━━━━━━━━━━━━━━━━━━━━━━━━━━━━━━━━━━━━╇━━━━━━━━━━━━━━━━━━━━━━━━━━━━━╇━━━━━━━━━━━━━━━━━┩\n",
              "│ input_layer_3 (\u001b[38;5;33mInputLayer\u001b[0m)           │ (\u001b[38;5;45mNone\u001b[0m, \u001b[38;5;34m32\u001b[0m, \u001b[38;5;34m32\u001b[0m, \u001b[38;5;34m3\u001b[0m)           │               \u001b[38;5;34m0\u001b[0m │\n",
              "├──────────────────────────────────────┼─────────────────────────────┼─────────────────┤\n",
              "│ conv2d_17 (\u001b[38;5;33mConv2D\u001b[0m)                   │ (\u001b[38;5;45mNone\u001b[0m, \u001b[38;5;34m32\u001b[0m, \u001b[38;5;34m32\u001b[0m, \u001b[38;5;34m32\u001b[0m)          │             \u001b[38;5;34m896\u001b[0m │\n",
              "├──────────────────────────────────────┼─────────────────────────────┼─────────────────┤\n",
              "│ max_pooling2d_6 (\u001b[38;5;33mMaxPooling2D\u001b[0m)       │ (\u001b[38;5;45mNone\u001b[0m, \u001b[38;5;34m16\u001b[0m, \u001b[38;5;34m16\u001b[0m, \u001b[38;5;34m32\u001b[0m)          │               \u001b[38;5;34m0\u001b[0m │\n",
              "├──────────────────────────────────────┼─────────────────────────────┼─────────────────┤\n",
              "│ conv2d_18 (\u001b[38;5;33mConv2D\u001b[0m)                   │ (\u001b[38;5;45mNone\u001b[0m, \u001b[38;5;34m16\u001b[0m, \u001b[38;5;34m16\u001b[0m, \u001b[38;5;34m16\u001b[0m)          │           \u001b[38;5;34m4,624\u001b[0m │\n",
              "├──────────────────────────────────────┼─────────────────────────────┼─────────────────┤\n",
              "│ max_pooling2d_7 (\u001b[38;5;33mMaxPooling2D\u001b[0m)       │ (\u001b[38;5;45mNone\u001b[0m, \u001b[38;5;34m8\u001b[0m, \u001b[38;5;34m8\u001b[0m, \u001b[38;5;34m16\u001b[0m)            │               \u001b[38;5;34m0\u001b[0m │\n",
              "├──────────────────────────────────────┼─────────────────────────────┼─────────────────┤\n",
              "│ conv2d_19 (\u001b[38;5;33mConv2D\u001b[0m)                   │ (\u001b[38;5;45mNone\u001b[0m, \u001b[38;5;34m8\u001b[0m, \u001b[38;5;34m8\u001b[0m, \u001b[38;5;34m8\u001b[0m)             │           \u001b[38;5;34m1,160\u001b[0m │\n",
              "├──────────────────────────────────────┼─────────────────────────────┼─────────────────┤\n",
              "│ conv2d_20 (\u001b[38;5;33mConv2D\u001b[0m)                   │ (\u001b[38;5;45mNone\u001b[0m, \u001b[38;5;34m8\u001b[0m, \u001b[38;5;34m8\u001b[0m, \u001b[38;5;34m8\u001b[0m)             │             \u001b[38;5;34m584\u001b[0m │\n",
              "├──────────────────────────────────────┼─────────────────────────────┼─────────────────┤\n",
              "│ up_sampling2d_6 (\u001b[38;5;33mUpSampling2D\u001b[0m)       │ (\u001b[38;5;45mNone\u001b[0m, \u001b[38;5;34m16\u001b[0m, \u001b[38;5;34m16\u001b[0m, \u001b[38;5;34m8\u001b[0m)           │               \u001b[38;5;34m0\u001b[0m │\n",
              "├──────────────────────────────────────┼─────────────────────────────┼─────────────────┤\n",
              "│ conv2d_21 (\u001b[38;5;33mConv2D\u001b[0m)                   │ (\u001b[38;5;45mNone\u001b[0m, \u001b[38;5;34m16\u001b[0m, \u001b[38;5;34m16\u001b[0m, \u001b[38;5;34m16\u001b[0m)          │           \u001b[38;5;34m1,168\u001b[0m │\n",
              "├──────────────────────────────────────┼─────────────────────────────┼─────────────────┤\n",
              "│ up_sampling2d_7 (\u001b[38;5;33mUpSampling2D\u001b[0m)       │ (\u001b[38;5;45mNone\u001b[0m, \u001b[38;5;34m32\u001b[0m, \u001b[38;5;34m32\u001b[0m, \u001b[38;5;34m16\u001b[0m)          │               \u001b[38;5;34m0\u001b[0m │\n",
              "├──────────────────────────────────────┼─────────────────────────────┼─────────────────┤\n",
              "│ conv2d_22 (\u001b[38;5;33mConv2D\u001b[0m)                   │ (\u001b[38;5;45mNone\u001b[0m, \u001b[38;5;34m32\u001b[0m, \u001b[38;5;34m32\u001b[0m, \u001b[38;5;34m3\u001b[0m)           │             \u001b[38;5;34m435\u001b[0m │\n",
              "└──────────────────────────────────────┴─────────────────────────────┴─────────────────┘\n"
            ]
          },
          "metadata": {},
          "output_type": "display_data"
        },
        {
          "data": {
            "text/html": [
              "<pre style=\"white-space:pre;overflow-x:auto;line-height:normal;font-family:Menlo,'DejaVu Sans Mono',consolas,'Courier New',monospace\"><span style=\"font-weight: bold\"> Total params: </span><span style=\"color: #00af00; text-decoration-color: #00af00\">8,867</span> (34.64 KB)\n",
              "</pre>\n"
            ],
            "text/plain": [
              "\u001b[1m Total params: \u001b[0m\u001b[38;5;34m8,867\u001b[0m (34.64 KB)\n"
            ]
          },
          "metadata": {},
          "output_type": "display_data"
        },
        {
          "data": {
            "text/html": [
              "<pre style=\"white-space:pre;overflow-x:auto;line-height:normal;font-family:Menlo,'DejaVu Sans Mono',consolas,'Courier New',monospace\"><span style=\"font-weight: bold\"> Trainable params: </span><span style=\"color: #00af00; text-decoration-color: #00af00\">8,867</span> (34.64 KB)\n",
              "</pre>\n"
            ],
            "text/plain": [
              "\u001b[1m Trainable params: \u001b[0m\u001b[38;5;34m8,867\u001b[0m (34.64 KB)\n"
            ]
          },
          "metadata": {},
          "output_type": "display_data"
        },
        {
          "data": {
            "text/html": [
              "<pre style=\"white-space:pre;overflow-x:auto;line-height:normal;font-family:Menlo,'DejaVu Sans Mono',consolas,'Courier New',monospace\"><span style=\"font-weight: bold\"> Non-trainable params: </span><span style=\"color: #00af00; text-decoration-color: #00af00\">0</span> (0.00 B)\n",
              "</pre>\n"
            ],
            "text/plain": [
              "\u001b[1m Non-trainable params: \u001b[0m\u001b[38;5;34m0\u001b[0m (0.00 B)\n"
            ]
          },
          "metadata": {},
          "output_type": "display_data"
        }
      ],
      "source": [
        "\n",
        "# Normalize pixel values to be between 0 and 1\n",
        "X_train = X_train.astype('float32') / 255.\n",
        "X_test = X_test.astype('float32') / 255.\n",
        "\n",
        "# Reshape the data to fit the model\n",
        "X_train = X_train.reshape((len(X_train), 32, 32, 3))\n",
        "X_test = X_test.reshape((len(X_test), 32, 32, 3))\n",
        "\n",
        "# Define the autoencoder model\n",
        "input_img = Input(shape=(32, 32, 3))\n",
        "x = Conv2D(32, (3, 3), activation='relu', padding='same')(input_img)\n",
        "x = MaxPooling2D((2, 2), padding='same')(x)\n",
        "x = Conv2D(16, (3, 3), activation='relu', padding='same')(x)\n",
        "x = MaxPooling2D((2, 2), padding='same')(x)\n",
        "encoded = Conv2D(8, (3, 3), activation='relu', padding='same')(x)\n",
        "\n",
        "x = Conv2D(8, (3, 3), activation='relu', padding='same')(encoded)\n",
        "x = UpSampling2D((2, 2))(x)\n",
        "x = Conv2D(16, (3, 3), activation='relu', padding='same')(x)\n",
        "x = UpSampling2D((2, 2))(x)\n",
        "decoded = Conv2D(3, (3, 3), activation='sigmoid', padding='same')(x)\n",
        "\n",
        "autoencoder = Model(input_img, decoded)\n",
        "autoencoder.summary()\n"
      ]
    },
    {
      "cell_type": "code",
      "execution_count": 13,
      "metadata": {
        "colab": {
          "base_uri": "https://localhost:8080/"
        },
        "id": "on52CtgGNhyr",
        "outputId": "3bacc5a8-147c-4266-b14c-cf40b4b9ab49"
      },
      "outputs": [
        {
          "output_type": "stream",
          "name": "stdout",
          "text": [
            "Epoch 1/50\n",
            "\u001b[1m391/391\u001b[0m \u001b[32m━━━━━━━━━━━━━━━━━━━━\u001b[0m\u001b[37m\u001b[0m \u001b[1m137s\u001b[0m 340ms/step - loss: 0.1629 - val_loss: 7.8272e-06\n",
            "Epoch 2/50\n",
            "\u001b[1m391/391\u001b[0m \u001b[32m━━━━━━━━━━━━━━━━━━━━\u001b[0m\u001b[37m\u001b[0m \u001b[1m142s\u001b[0m 340ms/step - loss: 5.5065e-06 - val_loss: 2.9594e-06\n",
            "Epoch 3/50\n",
            "\u001b[1m391/391\u001b[0m \u001b[32m━━━━━━━━━━━━━━━━━━━━\u001b[0m\u001b[37m\u001b[0m \u001b[1m127s\u001b[0m 301ms/step - loss: 2.7994e-06 - val_loss: 2.5894e-06\n",
            "Epoch 4/50\n",
            "\u001b[1m391/391\u001b[0m \u001b[32m━━━━━━━━━━━━━━━━━━━━\u001b[0m\u001b[37m\u001b[0m \u001b[1m132s\u001b[0m 337ms/step - loss: 2.5455e-06 - val_loss: 2.5008e-06\n",
            "Epoch 5/50\n",
            "\u001b[1m391/391\u001b[0m \u001b[32m━━━━━━━━━━━━━━━━━━━━\u001b[0m\u001b[37m\u001b[0m \u001b[1m134s\u001b[0m 316ms/step - loss: 2.4687e-06 - val_loss: 2.4355e-06\n",
            "Epoch 6/50\n",
            "\u001b[1m391/391\u001b[0m \u001b[32m━━━━━━━━━━━━━━━━━━━━\u001b[0m\u001b[37m\u001b[0m \u001b[1m150s\u001b[0m 336ms/step - loss: 2.4009e-06 - val_loss: 2.3645e-06\n",
            "Epoch 7/50\n",
            "\u001b[1m391/391\u001b[0m \u001b[32m━━━━━━━━━━━━━━━━━━━━\u001b[0m\u001b[37m\u001b[0m \u001b[1m138s\u001b[0m 326ms/step - loss: 2.3312e-06 - val_loss: 2.2842e-06\n",
            "Epoch 8/50\n",
            "\u001b[1m391/391\u001b[0m \u001b[32m━━━━━━━━━━━━━━━━━━━━\u001b[0m\u001b[37m\u001b[0m \u001b[1m147s\u001b[0m 338ms/step - loss: 2.2490e-06 - val_loss: 2.1924e-06\n",
            "Epoch 9/50\n",
            "\u001b[1m391/391\u001b[0m \u001b[32m━━━━━━━━━━━━━━━━━━━━\u001b[0m\u001b[37m\u001b[0m \u001b[1m144s\u001b[0m 344ms/step - loss: 2.1527e-06 - val_loss: 2.0876e-06\n",
            "Epoch 10/50\n",
            "\u001b[1m391/391\u001b[0m \u001b[32m━━━━━━━━━━━━━━━━━━━━\u001b[0m\u001b[37m\u001b[0m \u001b[1m139s\u001b[0m 336ms/step - loss: 2.0427e-06 - val_loss: 1.9691e-06\n",
            "Epoch 11/50\n",
            "\u001b[1m391/391\u001b[0m \u001b[32m━━━━━━━━━━━━━━━━━━━━\u001b[0m\u001b[37m\u001b[0m \u001b[1m136s\u001b[0m 321ms/step - loss: 1.9251e-06 - val_loss: 1.8393e-06\n",
            "Epoch 12/50\n",
            "\u001b[1m391/391\u001b[0m \u001b[32m━━━━━━━━━━━━━━━━━━━━\u001b[0m\u001b[37m\u001b[0m \u001b[1m137s\u001b[0m 310ms/step - loss: 1.7938e-06 - val_loss: 1.6995e-06\n",
            "Epoch 13/50\n",
            "\u001b[1m391/391\u001b[0m \u001b[32m━━━━━━━━━━━━━━━━━━━━\u001b[0m\u001b[37m\u001b[0m \u001b[1m131s\u001b[0m 335ms/step - loss: 1.6504e-06 - val_loss: 1.5465e-06\n",
            "Epoch 14/50\n",
            "\u001b[1m391/391\u001b[0m \u001b[32m━━━━━━━━━━━━━━━━━━━━\u001b[0m\u001b[37m\u001b[0m \u001b[1m143s\u001b[0m 339ms/step - loss: 1.5009e-06 - val_loss: 1.3960e-06\n",
            "Epoch 15/50\n",
            "\u001b[1m391/391\u001b[0m \u001b[32m━━━━━━━━━━━━━━━━━━━━\u001b[0m\u001b[37m\u001b[0m \u001b[1m125s\u001b[0m 296ms/step - loss: 1.3538e-06 - val_loss: 1.2588e-06\n",
            "Epoch 16/50\n",
            "\u001b[1m391/391\u001b[0m \u001b[32m━━━━━━━━━━━━━━━━━━━━\u001b[0m\u001b[37m\u001b[0m \u001b[1m141s\u001b[0m 293ms/step - loss: 1.2157e-06 - val_loss: 1.1176e-06\n",
            "Epoch 17/50\n",
            "\u001b[1m391/391\u001b[0m \u001b[32m━━━━━━━━━━━━━━━━━━━━\u001b[0m\u001b[37m\u001b[0m \u001b[1m147s\u001b[0m 307ms/step - loss: 1.0737e-06 - val_loss: 9.5176e-07\n",
            "Epoch 18/50\n",
            "\u001b[1m391/391\u001b[0m \u001b[32m━━━━━━━━━━━━━━━━━━━━\u001b[0m\u001b[37m\u001b[0m \u001b[1m137s\u001b[0m 294ms/step - loss: 8.9308e-07 - val_loss: 7.1729e-07\n",
            "Epoch 19/50\n",
            "\u001b[1m391/391\u001b[0m \u001b[32m━━━━━━━━━━━━━━━━━━━━\u001b[0m\u001b[37m\u001b[0m \u001b[1m114s\u001b[0m 293ms/step - loss: 6.6516e-07 - val_loss: 6.2356e-07\n",
            "Epoch 20/50\n",
            "\u001b[1m391/391\u001b[0m \u001b[32m━━━━━━━━━━━━━━━━━━━━\u001b[0m\u001b[37m\u001b[0m \u001b[1m141s\u001b[0m 291ms/step - loss: 6.1575e-07 - val_loss: 6.0698e-07\n",
            "Epoch 21/50\n",
            "\u001b[1m391/391\u001b[0m \u001b[32m━━━━━━━━━━━━━━━━━━━━\u001b[0m\u001b[37m\u001b[0m \u001b[1m146s\u001b[0m 302ms/step - loss: 6.0072e-07 - val_loss: 5.9362e-07\n",
            "Epoch 22/50\n",
            "\u001b[1m391/391\u001b[0m \u001b[32m━━━━━━━━━━━━━━━━━━━━\u001b[0m\u001b[37m\u001b[0m \u001b[1m141s\u001b[0m 300ms/step - loss: 5.8650e-07 - val_loss: 5.8096e-07\n",
            "Epoch 23/50\n",
            "\u001b[1m391/391\u001b[0m \u001b[32m━━━━━━━━━━━━━━━━━━━━\u001b[0m\u001b[37m\u001b[0m \u001b[1m144s\u001b[0m 305ms/step - loss: 5.7453e-07 - val_loss: 5.7192e-07\n",
            "Epoch 24/50\n",
            "\u001b[1m391/391\u001b[0m \u001b[32m━━━━━━━━━━━━━━━━━━━━\u001b[0m\u001b[37m\u001b[0m \u001b[1m137s\u001b[0m 291ms/step - loss: 5.6692e-07 - val_loss: 5.6503e-07\n",
            "Epoch 25/50\n",
            "\u001b[1m391/391\u001b[0m \u001b[32m━━━━━━━━━━━━━━━━━━━━\u001b[0m\u001b[37m\u001b[0m \u001b[1m141s\u001b[0m 289ms/step - loss: 5.5855e-07 - val_loss: 5.5863e-07\n",
            "Epoch 26/50\n",
            "\u001b[1m391/391\u001b[0m \u001b[32m━━━━━━━━━━━━━━━━━━━━\u001b[0m\u001b[37m\u001b[0m \u001b[1m116s\u001b[0m 297ms/step - loss: 5.5400e-07 - val_loss: 5.5417e-07\n",
            "Epoch 27/50\n",
            "\u001b[1m391/391\u001b[0m \u001b[32m━━━━━━━━━━━━━━━━━━━━\u001b[0m\u001b[37m\u001b[0m \u001b[1m114s\u001b[0m 292ms/step - loss: 5.4888e-07 - val_loss: 5.5016e-07\n",
            "Epoch 28/50\n",
            "\u001b[1m391/391\u001b[0m \u001b[32m━━━━━━━━━━━━━━━━━━━━\u001b[0m\u001b[37m\u001b[0m \u001b[1m146s\u001b[0m 303ms/step - loss: 5.4612e-07 - val_loss: 5.4636e-07\n",
            "Epoch 29/50\n",
            "\u001b[1m391/391\u001b[0m \u001b[32m━━━━━━━━━━━━━━━━━━━━\u001b[0m\u001b[37m\u001b[0m \u001b[1m117s\u001b[0m 300ms/step - loss: 5.4166e-07 - val_loss: 5.4339e-07\n",
            "Epoch 30/50\n",
            "\u001b[1m391/391\u001b[0m \u001b[32m━━━━━━━━━━━━━━━━━━━━\u001b[0m\u001b[37m\u001b[0m \u001b[1m148s\u001b[0m 316ms/step - loss: 5.3918e-07 - val_loss: 5.4147e-07\n",
            "Epoch 31/50\n",
            "\u001b[1m391/391\u001b[0m \u001b[32m━━━━━━━━━━━━━━━━━━━━\u001b[0m\u001b[37m\u001b[0m \u001b[1m137s\u001b[0m 303ms/step - loss: 5.3716e-07 - val_loss: 5.4025e-07\n",
            "Epoch 32/50\n",
            "\u001b[1m391/391\u001b[0m \u001b[32m━━━━━━━━━━━━━━━━━━━━\u001b[0m\u001b[37m\u001b[0m \u001b[1m140s\u001b[0m 300ms/step - loss: 5.3652e-07 - val_loss: 5.3944e-07\n",
            "Epoch 33/50\n",
            "\u001b[1m391/391\u001b[0m \u001b[32m━━━━━━━━━━━━━━━━━━━━\u001b[0m\u001b[37m\u001b[0m \u001b[1m143s\u001b[0m 303ms/step - loss: 5.3535e-07 - val_loss: 5.3880e-07\n",
            "Epoch 34/50\n",
            "\u001b[1m391/391\u001b[0m \u001b[32m━━━━━━━━━━━━━━━━━━━━\u001b[0m\u001b[37m\u001b[0m \u001b[1m138s\u001b[0m 293ms/step - loss: 5.3536e-07 - val_loss: 5.3815e-07\n",
            "Epoch 35/50\n",
            "\u001b[1m391/391\u001b[0m \u001b[32m━━━━━━━━━━━━━━━━━━━━\u001b[0m\u001b[37m\u001b[0m \u001b[1m142s\u001b[0m 294ms/step - loss: 5.3426e-07 - val_loss: 5.3759e-07\n",
            "Epoch 36/50\n",
            "\u001b[1m391/391\u001b[0m \u001b[32m━━━━━━━━━━━━━━━━━━━━\u001b[0m\u001b[37m\u001b[0m \u001b[1m141s\u001b[0m 293ms/step - loss: 5.3388e-07 - val_loss: 5.3709e-07\n",
            "Epoch 37/50\n",
            "\u001b[1m391/391\u001b[0m \u001b[32m━━━━━━━━━━━━━━━━━━━━\u001b[0m\u001b[37m\u001b[0m \u001b[1m142s\u001b[0m 293ms/step - loss: 5.3403e-07 - val_loss: 5.3656e-07\n",
            "Epoch 38/50\n",
            "\u001b[1m391/391\u001b[0m \u001b[32m━━━━━━━━━━━━━━━━━━━━\u001b[0m\u001b[37m\u001b[0m \u001b[1m114s\u001b[0m 291ms/step - loss: 5.3334e-07 - val_loss: 5.3607e-07\n",
            "Epoch 39/50\n",
            "\u001b[1m391/391\u001b[0m \u001b[32m━━━━━━━━━━━━━━━━━━━━\u001b[0m\u001b[37m\u001b[0m \u001b[1m144s\u001b[0m 297ms/step - loss: 5.3346e-07 - val_loss: 5.3562e-07\n",
            "Epoch 40/50\n",
            "\u001b[1m391/391\u001b[0m \u001b[32m━━━━━━━━━━━━━━━━━━━━\u001b[0m\u001b[37m\u001b[0m \u001b[1m139s\u001b[0m 289ms/step - loss: 5.3132e-07 - val_loss: 5.3519e-07\n",
            "Epoch 41/50\n",
            "\u001b[1m391/391\u001b[0m \u001b[32m━━━━━━━━━━━━━━━━━━━━\u001b[0m\u001b[37m\u001b[0m \u001b[1m114s\u001b[0m 291ms/step - loss: 5.3168e-07 - val_loss: 5.3474e-07\n",
            "Epoch 42/50\n",
            "\u001b[1m391/391\u001b[0m \u001b[32m━━━━━━━━━━━━━━━━━━━━\u001b[0m\u001b[37m\u001b[0m \u001b[1m114s\u001b[0m 293ms/step - loss: 5.3187e-07 - val_loss: 5.3431e-07\n",
            "Epoch 43/50\n",
            "\u001b[1m391/391\u001b[0m \u001b[32m━━━━━━━━━━━━━━━━━━━━\u001b[0m\u001b[37m\u001b[0m \u001b[1m115s\u001b[0m 293ms/step - loss: 5.3096e-07 - val_loss: 5.3391e-07\n",
            "Epoch 44/50\n",
            "\u001b[1m391/391\u001b[0m \u001b[32m━━━━━━━━━━━━━━━━━━━━\u001b[0m\u001b[37m\u001b[0m \u001b[1m114s\u001b[0m 292ms/step - loss: 5.2986e-07 - val_loss: 5.3353e-07\n",
            "Epoch 45/50\n",
            "\u001b[1m391/391\u001b[0m \u001b[32m━━━━━━━━━━━━━━━━━━━━\u001b[0m\u001b[37m\u001b[0m \u001b[1m143s\u001b[0m 294ms/step - loss: 5.3017e-07 - val_loss: 5.3314e-07\n",
            "Epoch 46/50\n",
            "\u001b[1m391/391\u001b[0m \u001b[32m━━━━━━━━━━━━━━━━━━━━\u001b[0m\u001b[37m\u001b[0m \u001b[1m141s\u001b[0m 292ms/step - loss: 5.2966e-07 - val_loss: 5.3278e-07\n",
            "Epoch 47/50\n",
            "\u001b[1m391/391\u001b[0m \u001b[32m━━━━━━━━━━━━━━━━━━━━\u001b[0m\u001b[37m\u001b[0m \u001b[1m143s\u001b[0m 294ms/step - loss: 5.2809e-07 - val_loss: 5.3246e-07\n",
            "Epoch 48/50\n",
            "\u001b[1m391/391\u001b[0m \u001b[32m━━━━━━━━━━━━━━━━━━━━\u001b[0m\u001b[37m\u001b[0m \u001b[1m144s\u001b[0m 299ms/step - loss: 5.2895e-07 - val_loss: 5.3215e-07\n",
            "Epoch 49/50\n",
            "\u001b[1m391/391\u001b[0m \u001b[32m━━━━━━━━━━━━━━━━━━━━\u001b[0m\u001b[37m\u001b[0m \u001b[1m142s\u001b[0m 300ms/step - loss: 5.2921e-07 - val_loss: 5.3186e-07\n",
            "Epoch 50/50\n",
            "\u001b[1m391/391\u001b[0m \u001b[32m━━━━━━━━━━━━━━━━━━━━\u001b[0m\u001b[37m\u001b[0m \u001b[1m144s\u001b[0m 306ms/step - loss: 5.2956e-07 - val_loss: 5.3160e-07\n"
          ]
        },
        {
          "output_type": "execute_result",
          "data": {
            "text/plain": [
              "<keras.src.callbacks.history.History at 0x7f326b2de4a0>"
            ]
          },
          "metadata": {},
          "execution_count": 13
        }
      ],
      "source": [
        "autoencoder.compile(optimizer='adam', loss='binary_crossentropy',)\n",
        "\n",
        "# Train the autoencoder\n",
        "autoencoder.fit(X_train, X_train,\n",
        "                epochs=50,\n",
        "                batch_size=128,\n",
        "                shuffle=True,\n",
        "                validation_data=(X_test, X_test))"
      ]
    }
  ],
  "metadata": {
    "colab": {
      "provenance": []
    },
    "kernelspec": {
      "display_name": "Python 3",
      "name": "python3"
    },
    "language_info": {
      "name": "python"
    }
  },
  "nbformat": 4,
  "nbformat_minor": 0
}