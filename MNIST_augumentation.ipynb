{
  "nbformat": 4,
  "nbformat_minor": 0,
  "metadata": {
    "colab": {
      "provenance": []
    },
    "kernelspec": {
      "name": "python3",
      "display_name": "Python 3"
    },
    "language_info": {
      "name": "python"
    }
  },
  "cells": [
    {
      "cell_type": "markdown",
      "source": [
        "#Dataset from handwrite by\n",
        "##National Institute of Standards and Technology"
      ],
      "metadata": {
        "id": "ZMk33-v-yDmH"
      }
    },
    {
      "cell_type": "code",
      "source": [
        "import matplotlib.pyplot as plt\n",
        "import numpy as np\n",
        "from keras.datasets import mnist\n",
        "from keras.models import Sequential\n",
        "from keras.layers import Dense, Dropout, Flatten, InputLayer\n",
        "from keras.layers import Conv2D, MaxPooling2D\n",
        "from keras.layers import BatchNormalization"
      ],
      "metadata": {
        "id": "C50dQnfEyH5X"
      },
      "execution_count": 4,
      "outputs": []
    },
    {
      "cell_type": "code",
      "source": [
        "import tensorflow as tf\n",
        "print(\"TensorFlow version:\", tf.__version__)\n",
        "\n",
        "import keras\n",
        "print(\"Keras version:\", keras.__version__)"
      ],
      "metadata": {
        "colab": {
          "base_uri": "https://localhost:8080/"
        },
        "id": "mQ_87cDCAMNL",
        "outputId": "b5c6c728-fe89-4e71-9a4e-07149fb7e9ff"
      },
      "execution_count": 2,
      "outputs": [
        {
          "output_type": "stream",
          "name": "stdout",
          "text": [
            "TensorFlow version: 2.17.0\n",
            "Keras version: 3.4.1\n"
          ]
        }
      ]
    },
    {
      "cell_type": "code",
      "source": [
        "(X_train,y_train),(X_test,y_test) = mnist.load_data()"
      ],
      "metadata": {
        "colab": {
          "base_uri": "https://localhost:8080/"
        },
        "id": "rBO0y9_XzJfM",
        "outputId": "d508a61e-e0f7-428d-fca4-f5547cc03daf"
      },
      "execution_count": 3,
      "outputs": [
        {
          "output_type": "stream",
          "name": "stdout",
          "text": [
            "Downloading data from https://storage.googleapis.com/tensorflow/tf-keras-datasets/mnist.npz\n",
            "\u001b[1m11490434/11490434\u001b[0m \u001b[32m━━━━━━━━━━━━━━━━━━━━\u001b[0m\u001b[37m\u001b[0m \u001b[1m0s\u001b[0m 0us/step\n"
          ]
        }
      ]
    },
    {
      "cell_type": "code",
      "source": [
        "# visualizer\n",
        "plt.imshow(X_train[1])"
      ],
      "metadata": {
        "colab": {
          "base_uri": "https://localhost:8080/",
          "height": 447
        },
        "id": "tsgaKC86zqAx",
        "outputId": "7da6e833-0a65-408f-b8c5-c0af8dfcec30"
      },
      "execution_count": 5,
      "outputs": [
        {
          "output_type": "execute_result",
          "data": {
            "text/plain": [
              "<matplotlib.image.AxesImage at 0x7fdb779d2c20>"
            ]
          },
          "metadata": {},
          "execution_count": 5
        },
        {
          "output_type": "display_data",
          "data": {
            "text/plain": [
              "<Figure size 640x480 with 1 Axes>"
            ],
            "image/png": "[encoded data removed]"
          },
          "metadata": {}
        }
      ]
    },
    {
      "cell_type": "code",
      "source": [
        "# Show numbers in the training dataframe in grayscale to reduce the channels from RGB to gray\n",
        "plt.imshow(X_train[1], cmap ='gray')"
      ],
      "metadata": {
        "colab": {
          "base_uri": "https://localhost:8080/",
          "height": 447
        },
        "id": "91TJYNFb0opX",
        "outputId": "4e3a09aa-0b60-44e6-bddc-2124fd0ee9ef"
      },
      "execution_count": 6,
      "outputs": [
        {
          "output_type": "execute_result",
          "data": {
            "text/plain": [
              "<matplotlib.image.AxesImage at 0x7fdb73983070>"
            ]
          },
          "metadata": {},
          "execution_count": 6
        },
        {
          "output_type": "display_data",
          "data": {
            "text/plain": [
              "<Figure size 640x480 with 1 Axes>"
            ],
            "image/png": "[encoded data removed]"
          },
          "metadata": {}
        }
      ]
    },
    {
      "cell_type": "code",
      "source": [
        "# change to 28x28, on channel\n",
        "train = X_train.reshape(X_train.shape[0],28,28,1)\n",
        "test = X_test.reshape(X_test.shape[0],28,28,1)\n",
        "train = train.astype('float32')\n",
        "test = test.astype('float32')\n",
        "# normalization\n",
        "train /= 255\n",
        "test /= 255"
      ],
      "metadata": {
        "id": "aO1LPo_q54BK"
      },
      "execution_count": 10,
      "outputs": []
    },
    {
      "cell_type": "code",
      "source": [
        "from tensorflow.keras.utils import to_categorical\n",
        "\n",
        "# resctrict number for probability in output for 10 class\n",
        "class_train = to_categorical(y_train, 10)\n",
        "class_test = to_categorical(y_test, 10)"
      ],
      "metadata": {
        "id": "IHWDAZ2J8-4b"
      },
      "execution_count": 11,
      "outputs": []
    },
    {
      "cell_type": "code",
      "source": [
        "# augumentation generator\n",
        "from tensorflow.keras.preprocessing.image import ImageDataGenerator\n",
        "new_images_train = ImageDataGenerator(\n",
        "    rotation_range=10,\n",
        "    horizontal_flip=True,\n",
        "    zoom_range=0.10,\n",
        "    shear_range=0.2,\n",
        "    width_shift_range=0.1,\n",
        "    height_shift_range=0.1\n",
        ")\n",
        "new_images_test = ImageDataGenerator()\n",
        "base_train = new_images_train.flow(train, class_train, batch_size=128)\n",
        "base_test = new_images_test.flow(test, class_test, batch_size=128)\n",
        "len(base_train) , len(train)"
      ],
      "metadata": {
        "colab": {
          "base_uri": "https://localhost:8080/"
        },
        "id": "oZu_2tTu1nc_",
        "outputId": "f1fe808e-c611-4d4b-bd66-ff4b887ed54e"
      },
      "execution_count": 19,
      "outputs": [
        {
          "output_type": "execute_result",
          "data": {
            "text/plain": [
              "(469, 60000)"
            ]
          },
          "metadata": {},
          "execution_count": 19
        }
      ]
    },
    {
      "cell_type": "code",
      "source": [
        "# convolution operator\n",
        "# first inicialization model\n",
        "classificator = Sequential()\n",
        "# - add layer conv2D with 32 kernel with size 3x3 size from feature detector (matriz)\n",
        "# - strides mean how to move the pixels\n",
        "# - padding refers to the addition of extra pixels around the border of an input image. This is done\n",
        "# to control the spatial dimensions of the output feature maps (results from apply kernel, filter)\n",
        "classificator.add(Conv2D(32, kernel_size=(3,3),\n",
        "                         strides=(1,1),\n",
        "                         activation='relu',\n",
        "                         input_shape=(28,28,1)))\n",
        "classificator.add(BatchNormalization())\n",
        "classificator.add(MaxPooling2D(pool_size=(2,2)))\n",
        "\n",
        "classificator.add(Conv2D(32, (3,3), activation='relu'))\n",
        "classificator.add(BatchNormalization())\n",
        "classificator.add(MaxPooling2D(pool_size=(2,2)))\n",
        "classificator.add(Flatten())\n",
        "\n",
        "# This point finished the convolutional, 128 neurons\n",
        "classificator.add(Dense(128, activation='relu'))\n",
        "# dropout for avoid overfitting and less sparse, 20% input will become 0\n",
        "classificator.add(Dropout(0.2))\n",
        "classificator.add(Dense(128, activation='relu'))\n",
        "classificator.add(Dropout(0.2))\n",
        "classificator.add(Dense(10, activation='softmax'))\n",
        "\n",
        "classificator.compile(loss='categorical_crossentropy',\n",
        "                      optimizer='adam',\n",
        "                      metrics=['accuracy'])\n",
        "classificator.fit(base_train,\n",
        "                  batch_size=128,\n",
        "                  epochs=10,\n",
        "                  verbose=1,\n",
        "                  validation_data=base_test)"
      ],
      "metadata": {
        "colab": {
          "base_uri": "https://localhost:8080/"
        },
        "id": "O6IGJKtQCDyf",
        "outputId": "39414f26-57d8-44d2-a525-d54f7be2fb71"
      },
      "execution_count": 21,
      "outputs": [
        {
          "output_type": "stream",
          "name": "stdout",
          "text": [
            "Epoch 1/10\n"
          ]
        },
        {
          "output_type": "stream",
          "name": "stderr",
          "text": [
            "/usr/local/lib/python3.10/dist-packages/keras/src/trainers/data_adapters/py_dataset_adapter.py:121: UserWarning: Your `PyDataset` class should call `super().__init__(**kwargs)` in its constructor. `**kwargs` can include `workers`, `use_multiprocessing`, `max_queue_size`. Do not pass these arguments to `fit()`, as they will be ignored.\n",
            "  self._warn_if_super_not_called()\n"
          ]
        },
        {
          "output_type": "stream",
          "name": "stdout",
          "text": [
            "\u001b[1m469/469\u001b[0m \u001b[32m━━━━━━━━━━━━━━━━━━━━\u001b[0m\u001b[37m\u001b[0m \u001b[1m89s\u001b[0m 180ms/step - accuracy: 0.6728 - loss: 0.9681 - val_accuracy: 0.9351 - val_loss: 0.2204\n",
            "Epoch 2/10\n",
            "\u001b[1m469/469\u001b[0m \u001b[32m━━━━━━━━━━━━━━━━━━━━\u001b[0m\u001b[37m\u001b[0m \u001b[1m83s\u001b[0m 177ms/step - accuracy: 0.9212 - loss: 0.2512 - val_accuracy: 0.9785 - val_loss: 0.0702\n",
            "Epoch 3/10\n",
            "\u001b[1m469/469\u001b[0m \u001b[32m━━━━━━━━━━━━━━━━━━━━\u001b[0m\u001b[37m\u001b[0m \u001b[1m142s\u001b[0m 176ms/step - accuracy: 0.9454 - loss: 0.1754 - val_accuracy: 0.9757 - val_loss: 0.0776\n",
            "Epoch 4/10\n",
            "\u001b[1m469/469\u001b[0m \u001b[32m━━━━━━━━━━━━━━━━━━━━\u001b[0m\u001b[37m\u001b[0m \u001b[1m82s\u001b[0m 173ms/step - accuracy: 0.9543 - loss: 0.1515 - val_accuracy: 0.9777 - val_loss: 0.0640\n",
            "Epoch 5/10\n",
            "\u001b[1m469/469\u001b[0m \u001b[32m━━━━━━━━━━━━━━━━━━━━\u001b[0m\u001b[37m\u001b[0m \u001b[1m81s\u001b[0m 172ms/step - accuracy: 0.9582 - loss: 0.1348 - val_accuracy: 0.9672 - val_loss: 0.1047\n",
            "Epoch 6/10\n",
            "\u001b[1m469/469\u001b[0m \u001b[32m━━━━━━━━━━━━━━━━━━━━\u001b[0m\u001b[37m\u001b[0m \u001b[1m82s\u001b[0m 173ms/step - accuracy: 0.9617 - loss: 0.1250 - val_accuracy: 0.9810 - val_loss: 0.0573\n",
            "Epoch 7/10\n",
            "\u001b[1m469/469\u001b[0m \u001b[32m━━━━━━━━━━━━━━━━━━━━\u001b[0m\u001b[37m\u001b[0m \u001b[1m81s\u001b[0m 172ms/step - accuracy: 0.9631 - loss: 0.1242 - val_accuracy: 0.9803 - val_loss: 0.0629\n",
            "Epoch 8/10\n",
            "\u001b[1m469/469\u001b[0m \u001b[32m━━━━━━━━━━━━━━━━━━━━\u001b[0m\u001b[37m\u001b[0m \u001b[1m81s\u001b[0m 172ms/step - accuracy: 0.9663 - loss: 0.1091 - val_accuracy: 0.9834 - val_loss: 0.0509\n",
            "Epoch 9/10\n",
            "\u001b[1m469/469\u001b[0m \u001b[32m━━━━━━━━━━━━━━━━━━━━\u001b[0m\u001b[37m\u001b[0m \u001b[1m82s\u001b[0m 171ms/step - accuracy: 0.9673 - loss: 0.1029 - val_accuracy: 0.9840 - val_loss: 0.0507\n",
            "Epoch 10/10\n",
            "\u001b[1m469/469\u001b[0m \u001b[32m━━━━━━━━━━━━━━━━━━━━\u001b[0m\u001b[37m\u001b[0m \u001b[1m82s\u001b[0m 174ms/step - accuracy: 0.9684 - loss: 0.1043 - val_accuracy: 0.9698 - val_loss: 0.0980\n"
          ]
        },
        {
          "output_type": "execute_result",
          "data": {
            "text/plain": [
              "<keras.src.callbacks.history.History at 0x7fdb61521900>"
            ]
          },
          "metadata": {},
          "execution_count": 21
        }
      ]
    }
  ]
}