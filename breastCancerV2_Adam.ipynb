{
  "nbformat": 4,
  "nbformat_minor": 0,
  "metadata": {
    "colab": {
      "provenance": []
    },
    "kernelspec": {
      "name": "python3",
      "display_name": "Python 3"
    },
    "language_info": {
      "name": "python"
    }
  },
  "cells": [
    {
      "cell_type": "markdown",
      "source": [
        "# Dataset about breast cancer\n",
        "Features are computed from a digitized image of a fine needle aspirate (FNA) of a breast mass.  They describe characteristics of the cell nuclei present in the image. A few of the images can be found at http://www.cs.wisc.edu/~street/images/\n",
        "\n",
        "link for more information: https://archive.ics.uci.edu/dataset/17/breast+cancer+wisconsin+diagnostic"
      ],
      "metadata": {
        "id": "lmaIIi9MT3KP"
      }
    },
    {
      "cell_type": "code",
      "source": [
        "import pandas as pd\n",
        "import numpy as np\n",
        "import keras\n",
        "from keras.models import Sequential\n",
        "from keras.layers import Dense\n",
        "from keras.utils import to_categorical"
      ],
      "metadata": {
        "id": "BaYsC21pU759"
      },
      "execution_count": 1,
      "outputs": []
    },
    {
      "cell_type": "code",
      "source": [
        "import tensorflow as tf\n",
        "print(\"TensorFlow version:\", tf.__version__)\n",
        "\n",
        "import keras\n",
        "print(\"Keras version:\", keras.__version__)"
      ],
      "metadata": {
        "colab": {
          "base_uri": "https://localhost:8080/"
        },
        "id": "Dst1PuOnZ7Dh",
        "outputId": "14eb732c-24a1-4987-d010-a2499fa7c106"
      },
      "execution_count": 2,
      "outputs": [
        {
          "output_type": "stream",
          "name": "stdout",
          "text": [
            "TensorFlow version: 2.17.0\n",
            "Keras version: 3.4.1\n"
          ]
        }
      ]
    },
    {
      "cell_type": "code",
      "source": [
        "features_cancer = pd.read_csv('entradas_breast.csv')\n",
        "classes_cancer = pd.read_csv('saidas_breast.csv')"
      ],
      "metadata": {
        "id": "x7rsXcPSegRj"
      },
      "execution_count": 3,
      "outputs": []
    },
    {
      "cell_type": "code",
      "source": [
        "# in order to split in train and test\n",
        "from sklearn.model_selection import train_test_split"
      ],
      "metadata": {
        "id": "5-HwOCOZexDV"
      },
      "execution_count": 4,
      "outputs": []
    },
    {
      "cell_type": "code",
      "source": [
        "features_train, features_test, classes_train, classes_test = train_test_split(features_cancer, classes_cancer, test_size=0.25, random_state=0)"
      ],
      "metadata": {
        "id": "ZpvPdbpre4w_"
      },
      "execution_count": 5,
      "outputs": []
    },
    {
      "cell_type": "code",
      "source": [
        "features_cancer.shape"
      ],
      "metadata": {
        "colab": {
          "base_uri": "https://localhost:8080/"
        },
        "id": "jUB1JNzyjYzI",
        "outputId": "7de9029f-d1bc-4cf5-8ab5-69962b6516de"
      },
      "execution_count": 7,
      "outputs": [
        {
          "output_type": "execute_result",
          "data": {
            "text/plain": [
              "(569, 30)"
            ]
          },
          "metadata": {},
          "execution_count": 7
        }
      ]
    },
    {
      "cell_type": "code",
      "source": [
        "classifier = Sequential()\n",
        "classifier.add(Dense(units = 16, activation = 'relu',\n",
        "                     kernel_initializer='random_uniform',\n",
        "                     input_dim= 30))\n",
        "classifier.add(Dense(units = 1, activation = 'sigmoid'))"
      ],
      "metadata": {
        "colab": {
          "base_uri": "https://localhost:8080/"
        },
        "id": "6zs86Vkfe-Uw",
        "outputId": "81902dd0-48bd-4872-ffdc-1c3160838d50"
      },
      "execution_count": 8,
      "outputs": [
        {
          "output_type": "stream",
          "name": "stderr",
          "text": [
            "/usr/local/lib/python3.10/dist-packages/keras/src/layers/core/dense.py:87: UserWarning: Do not pass an `input_shape`/`input_dim` argument to a layer. When using Sequential models, prefer using an `Input(shape)` object as the first layer in the model instead.\n",
            "  super().__init__(activity_regularizer=activity_regularizer, **kwargs)\n"
          ]
        }
      ]
    },
    {
      "cell_type": "markdown",
      "source": [
        "# Modify default optimizer **Adam**\n",
        "\n",
        "- learning_rate = learning rate (add the steps of the weights  )\n",
        "- decay = how much faster learning rate decreasing\n",
        "- clipvalue or clipnorm control gradient clipping, in order to avoid convergence issues in  descent gradient, limit the max value\n",
        "\n",
        "![image.png](data:image/png;base64,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)\n",
        " -"
      ],
      "metadata": {
        "id": "6eLiMxRwJcKf"
      }
    },
    {
      "cell_type": "code",
      "source": [
        "optimizer = keras.optimizers.Adam( learning_rate = 0.001,\n",
        "                                  decay=0.001,\n",
        "                                  clipvalue=0.5)"
      ],
      "metadata": {
        "colab": {
          "base_uri": "https://localhost:8080/"
        },
        "id": "bpEh_h8fH2XK",
        "outputId": "1eca10b9-f88d-4fe1-e69e-69664d4d6fd6"
      },
      "execution_count": 14,
      "outputs": [
        {
          "output_type": "stream",
          "name": "stderr",
          "text": [
            "/usr/local/lib/python3.10/dist-packages/keras/src/optimizers/base_optimizer.py:33: UserWarning: Argument `decay` is no longer supported and will be ignored.\n",
            "  warnings.warn(\n"
          ]
        }
      ]
    },
    {
      "cell_type": "code",
      "source": [
        "classifier.compile(optimizer = optimizer, loss = 'binary_crossentropy',\n",
        "                   metrics = ['binary_accuracy'])\n",
        "classifier.fit(features_train,\n",
        "               classes_train,\n",
        "               batch_size = 10,\n",
        "               epochs = 100)\n"
      ],
      "metadata": {
        "colab": {
          "base_uri": "https://localhost:8080/"
        },
        "id": "ljdeXHGjH0nP",
        "outputId": "356bd99c-4b4e-41a3-fe9b-c4a2b202505e"
      },
      "execution_count": 15,
      "outputs": [
        {
          "output_type": "stream",
          "name": "stdout",
          "text": [
            "Epoch 1/100\n",
            "\u001b[1m43/43\u001b[0m \u001b[32m━━━━━━━━━━━━━━━━━━━━\u001b[0m\u001b[37m\u001b[0m \u001b[1m1s\u001b[0m 2ms/step - binary_accuracy: 0.5639 - loss: 11.7200\n",
            "Epoch 2/100\n",
            "\u001b[1m43/43\u001b[0m \u001b[32m━━━━━━━━━━━━━━━━━━━━\u001b[0m\u001b[37m\u001b[0m \u001b[1m0s\u001b[0m 2ms/step - binary_accuracy: 0.6219 - loss: 2.7502\n",
            "Epoch 3/100\n",
            "\u001b[1m43/43\u001b[0m \u001b[32m━━━━━━━━━━━━━━━━━━━━\u001b[0m\u001b[37m\u001b[0m \u001b[1m0s\u001b[0m 2ms/step - binary_accuracy: 0.7439 - loss: 0.8057\n",
            "Epoch 4/100\n",
            "\u001b[1m43/43\u001b[0m \u001b[32m━━━━━━━━━━━━━━━━━━━━\u001b[0m\u001b[37m\u001b[0m \u001b[1m0s\u001b[0m 2ms/step - binary_accuracy: 0.8509 - loss: 0.7459\n",
            "Epoch 5/100\n",
            "\u001b[1m43/43\u001b[0m \u001b[32m━━━━━━━━━━━━━━━━━━━━\u001b[0m\u001b[37m\u001b[0m \u001b[1m0s\u001b[0m 3ms/step - binary_accuracy: 0.7630 - loss: 1.1506\n",
            "Epoch 6/100\n",
            "\u001b[1m43/43\u001b[0m \u001b[32m━━━━━━━━━━━━━━━━━━━━\u001b[0m\u001b[37m\u001b[0m \u001b[1m0s\u001b[0m 3ms/step - binary_accuracy: 0.8379 - loss: 0.9037\n",
            "Epoch 7/100\n",
            "\u001b[1m43/43\u001b[0m \u001b[32m━━━━━━━━━━━━━━━━━━━━\u001b[0m\u001b[37m\u001b[0m \u001b[1m0s\u001b[0m 4ms/step - binary_accuracy: 0.7437 - loss: 1.2680\n",
            "Epoch 8/100\n",
            "\u001b[1m43/43\u001b[0m \u001b[32m━━━━━━━━━━━━━━━━━━━━\u001b[0m\u001b[37m\u001b[0m \u001b[1m0s\u001b[0m 3ms/step - binary_accuracy: 0.7982 - loss: 0.9984\n",
            "Epoch 9/100\n",
            "\u001b[1m43/43\u001b[0m \u001b[32m━━━━━━━━━━━━━━━━━━━━\u001b[0m\u001b[37m\u001b[0m \u001b[1m0s\u001b[0m 3ms/step - binary_accuracy: 0.7785 - loss: 1.2359\n",
            "Epoch 10/100\n",
            "\u001b[1m43/43\u001b[0m \u001b[32m━━━━━━━━━━━━━━━━━━━━\u001b[0m\u001b[37m\u001b[0m \u001b[1m0s\u001b[0m 3ms/step - binary_accuracy: 0.8537 - loss: 0.6266\n",
            "Epoch 11/100\n",
            "\u001b[1m43/43\u001b[0m \u001b[32m━━━━━━━━━━━━━━━━━━━━\u001b[0m\u001b[37m\u001b[0m \u001b[1m0s\u001b[0m 4ms/step - binary_accuracy: 0.7425 - loss: 1.2514\n",
            "Epoch 12/100\n",
            "\u001b[1m43/43\u001b[0m \u001b[32m━━━━━━━━━━━━━━━━━━━━\u001b[0m\u001b[37m\u001b[0m \u001b[1m0s\u001b[0m 3ms/step - binary_accuracy: 0.7384 - loss: 1.7742\n",
            "Epoch 13/100\n",
            "\u001b[1m43/43\u001b[0m \u001b[32m━━━━━━━━━━━━━━━━━━━━\u001b[0m\u001b[37m\u001b[0m \u001b[1m0s\u001b[0m 4ms/step - binary_accuracy: 0.8061 - loss: 1.0252\n",
            "Epoch 14/100\n",
            "\u001b[1m43/43\u001b[0m \u001b[32m━━━━━━━━━━━━━━━━━━━━\u001b[0m\u001b[37m\u001b[0m \u001b[1m0s\u001b[0m 3ms/step - binary_accuracy: 0.8189 - loss: 1.1161\n",
            "Epoch 15/100\n",
            "\u001b[1m43/43\u001b[0m \u001b[32m━━━━━━━━━━━━━━━━━━━━\u001b[0m\u001b[37m\u001b[0m \u001b[1m0s\u001b[0m 4ms/step - binary_accuracy: 0.7370 - loss: 1.7481\n",
            "Epoch 16/100\n",
            "\u001b[1m43/43\u001b[0m \u001b[32m━━━━━━━━━━━━━━━━━━━━\u001b[0m\u001b[37m\u001b[0m \u001b[1m0s\u001b[0m 3ms/step - binary_accuracy: 0.8030 - loss: 0.9545\n",
            "Epoch 17/100\n",
            "\u001b[1m43/43\u001b[0m \u001b[32m━━━━━━━━━━━━━━━━━━━━\u001b[0m\u001b[37m\u001b[0m \u001b[1m0s\u001b[0m 3ms/step - binary_accuracy: 0.8242 - loss: 0.8932\n",
            "Epoch 18/100\n",
            "\u001b[1m43/43\u001b[0m \u001b[32m━━━━━━━━━━━━━━━━━━━━\u001b[0m\u001b[37m\u001b[0m \u001b[1m0s\u001b[0m 2ms/step - binary_accuracy: 0.8235 - loss: 0.8751\n",
            "Epoch 19/100\n",
            "\u001b[1m43/43\u001b[0m \u001b[32m━━━━━━━━━━━━━━━━━━━━\u001b[0m\u001b[37m\u001b[0m \u001b[1m0s\u001b[0m 2ms/step - binary_accuracy: 0.8501 - loss: 0.7378\n",
            "Epoch 20/100\n",
            "\u001b[1m43/43\u001b[0m \u001b[32m━━━━━━━━━━━━━━━━━━━━\u001b[0m\u001b[37m\u001b[0m \u001b[1m0s\u001b[0m 2ms/step - binary_accuracy: 0.8423 - loss: 0.7668\n",
            "Epoch 21/100\n",
            "\u001b[1m43/43\u001b[0m \u001b[32m━━━━━━━━━━━━━━━━━━━━\u001b[0m\u001b[37m\u001b[0m \u001b[1m0s\u001b[0m 3ms/step - binary_accuracy: 0.7462 - loss: 2.0003\n",
            "Epoch 22/100\n",
            "\u001b[1m43/43\u001b[0m \u001b[32m━━━━━━━━━━━━━━━━━━━━\u001b[0m\u001b[37m\u001b[0m \u001b[1m0s\u001b[0m 2ms/step - binary_accuracy: 0.7849 - loss: 1.0416\n",
            "Epoch 23/100\n",
            "\u001b[1m43/43\u001b[0m \u001b[32m━━━━━━━━━━━━━━━━━━━━\u001b[0m\u001b[37m\u001b[0m \u001b[1m0s\u001b[0m 2ms/step - binary_accuracy: 0.8581 - loss: 0.8513\n",
            "Epoch 24/100\n",
            "\u001b[1m43/43\u001b[0m \u001b[32m━━━━━━━━━━━━━━━━━━━━\u001b[0m\u001b[37m\u001b[0m \u001b[1m0s\u001b[0m 2ms/step - binary_accuracy: 0.7824 - loss: 1.7242\n",
            "Epoch 25/100\n",
            "\u001b[1m43/43\u001b[0m \u001b[32m━━━━━━━━━━━━━━━━━━━━\u001b[0m\u001b[37m\u001b[0m \u001b[1m0s\u001b[0m 2ms/step - binary_accuracy: 0.7934 - loss: 1.2231\n",
            "Epoch 26/100\n",
            "\u001b[1m43/43\u001b[0m \u001b[32m━━━━━━━━━━━━━━━━━━━━\u001b[0m\u001b[37m\u001b[0m \u001b[1m0s\u001b[0m 2ms/step - binary_accuracy: 0.7122 - loss: 2.0353\n",
            "Epoch 27/100\n",
            "\u001b[1m43/43\u001b[0m \u001b[32m━━━━━━━━━━━━━━━━━━━━\u001b[0m\u001b[37m\u001b[0m \u001b[1m0s\u001b[0m 2ms/step - binary_accuracy: 0.7847 - loss: 1.6432\n",
            "Epoch 28/100\n",
            "\u001b[1m43/43\u001b[0m \u001b[32m━━━━━━━━━━━━━━━━━━━━\u001b[0m\u001b[37m\u001b[0m \u001b[1m0s\u001b[0m 2ms/step - binary_accuracy: 0.8541 - loss: 1.2222\n",
            "Epoch 29/100\n",
            "\u001b[1m43/43\u001b[0m \u001b[32m━━━━━━━━━━━━━━━━━━━━\u001b[0m\u001b[37m\u001b[0m \u001b[1m0s\u001b[0m 2ms/step - binary_accuracy: 0.8740 - loss: 0.7127\n",
            "Epoch 30/100\n",
            "\u001b[1m43/43\u001b[0m \u001b[32m━━━━━━━━━━━━━━━━━━━━\u001b[0m\u001b[37m\u001b[0m \u001b[1m0s\u001b[0m 2ms/step - binary_accuracy: 0.8473 - loss: 0.8827\n",
            "Epoch 31/100\n",
            "\u001b[1m43/43\u001b[0m \u001b[32m━━━━━━━━━━━━━━━━━━━━\u001b[0m\u001b[37m\u001b[0m \u001b[1m0s\u001b[0m 2ms/step - binary_accuracy: 0.8393 - loss: 1.1162\n",
            "Epoch 32/100\n",
            "\u001b[1m43/43\u001b[0m \u001b[32m━━━━━━━━━━━━━━━━━━━━\u001b[0m\u001b[37m\u001b[0m \u001b[1m0s\u001b[0m 2ms/step - binary_accuracy: 0.8774 - loss: 0.6448\n",
            "Epoch 33/100\n",
            "\u001b[1m43/43\u001b[0m \u001b[32m━━━━━━━━━━━━━━━━━━━━\u001b[0m\u001b[37m\u001b[0m \u001b[1m0s\u001b[0m 2ms/step - binary_accuracy: 0.8161 - loss: 0.9867\n",
            "Epoch 34/100\n",
            "\u001b[1m43/43\u001b[0m \u001b[32m━━━━━━━━━━━━━━━━━━━━\u001b[0m\u001b[37m\u001b[0m \u001b[1m0s\u001b[0m 2ms/step - binary_accuracy: 0.8900 - loss: 0.6122\n",
            "Epoch 35/100\n",
            "\u001b[1m43/43\u001b[0m \u001b[32m━━━━━━━━━━━━━━━━━━━━\u001b[0m\u001b[37m\u001b[0m \u001b[1m0s\u001b[0m 3ms/step - binary_accuracy: 0.8239 - loss: 0.9359\n",
            "Epoch 36/100\n",
            "\u001b[1m43/43\u001b[0m \u001b[32m━━━━━━━━━━━━━━━━━━━━\u001b[0m\u001b[37m\u001b[0m \u001b[1m0s\u001b[0m 2ms/step - binary_accuracy: 0.8025 - loss: 1.0313\n",
            "Epoch 37/100\n",
            "\u001b[1m43/43\u001b[0m \u001b[32m━━━━━━━━━━━━━━━━━━━━\u001b[0m\u001b[37m\u001b[0m \u001b[1m0s\u001b[0m 2ms/step - binary_accuracy: 0.8583 - loss: 0.9284\n",
            "Epoch 38/100\n",
            "\u001b[1m43/43\u001b[0m \u001b[32m━━━━━━━━━━━━━━━━━━━━\u001b[0m\u001b[37m\u001b[0m \u001b[1m0s\u001b[0m 2ms/step - binary_accuracy: 0.8550 - loss: 0.9113\n",
            "Epoch 39/100\n",
            "\u001b[1m43/43\u001b[0m \u001b[32m━━━━━━━━━━━━━━━━━━━━\u001b[0m\u001b[37m\u001b[0m \u001b[1m0s\u001b[0m 2ms/step - binary_accuracy: 0.8077 - loss: 0.9646\n",
            "Epoch 40/100\n",
            "\u001b[1m43/43\u001b[0m \u001b[32m━━━━━━━━━━━━━━━━━━━━\u001b[0m\u001b[37m\u001b[0m \u001b[1m0s\u001b[0m 2ms/step - binary_accuracy: 0.8389 - loss: 0.7040\n",
            "Epoch 41/100\n",
            "\u001b[1m43/43\u001b[0m \u001b[32m━━━━━━━━━━━━━━━━━━━━\u001b[0m\u001b[37m\u001b[0m \u001b[1m0s\u001b[0m 2ms/step - binary_accuracy: 0.8337 - loss: 1.0792\n",
            "Epoch 42/100\n",
            "\u001b[1m43/43\u001b[0m \u001b[32m━━━━━━━━━━━━━━━━━━━━\u001b[0m\u001b[37m\u001b[0m \u001b[1m0s\u001b[0m 2ms/step - binary_accuracy: 0.8052 - loss: 0.8307\n",
            "Epoch 43/100\n",
            "\u001b[1m43/43\u001b[0m \u001b[32m━━━━━━━━━━━━━━━━━━━━\u001b[0m\u001b[37m\u001b[0m \u001b[1m0s\u001b[0m 2ms/step - binary_accuracy: 0.8444 - loss: 0.9351\n",
            "Epoch 44/100\n",
            "\u001b[1m43/43\u001b[0m \u001b[32m━━━━━━━━━━━━━━━━━━━━\u001b[0m\u001b[37m\u001b[0m \u001b[1m0s\u001b[0m 2ms/step - binary_accuracy: 0.8475 - loss: 0.7426\n",
            "Epoch 45/100\n",
            "\u001b[1m43/43\u001b[0m \u001b[32m━━━━━━━━━━━━━━━━━━━━\u001b[0m\u001b[37m\u001b[0m \u001b[1m0s\u001b[0m 2ms/step - binary_accuracy: 0.8771 - loss: 0.6528\n",
            "Epoch 46/100\n",
            "\u001b[1m43/43\u001b[0m \u001b[32m━━━━━━━━━━━━━━━━━━━━\u001b[0m\u001b[37m\u001b[0m \u001b[1m0s\u001b[0m 2ms/step - binary_accuracy: 0.8220 - loss: 0.8278\n",
            "Epoch 47/100\n",
            "\u001b[1m43/43\u001b[0m \u001b[32m━━━━━━━━━━━━━━━━━━━━\u001b[0m\u001b[37m\u001b[0m \u001b[1m0s\u001b[0m 2ms/step - binary_accuracy: 0.8265 - loss: 0.9184\n",
            "Epoch 48/100\n",
            "\u001b[1m43/43\u001b[0m \u001b[32m━━━━━━━━━━━━━━━━━━━━\u001b[0m\u001b[37m\u001b[0m \u001b[1m0s\u001b[0m 2ms/step - binary_accuracy: 0.7908 - loss: 1.2768\n",
            "Epoch 49/100\n",
            "\u001b[1m43/43\u001b[0m \u001b[32m━━━━━━━━━━━━━━━━━━━━\u001b[0m\u001b[37m\u001b[0m \u001b[1m0s\u001b[0m 2ms/step - binary_accuracy: 0.8652 - loss: 0.5520\n",
            "Epoch 50/100\n",
            "\u001b[1m43/43\u001b[0m \u001b[32m━━━━━━━━━━━━━━━━━━━━\u001b[0m\u001b[37m\u001b[0m \u001b[1m0s\u001b[0m 2ms/step - binary_accuracy: 0.7699 - loss: 1.0311\n",
            "Epoch 51/100\n",
            "\u001b[1m43/43\u001b[0m \u001b[32m━━━━━━━━━━━━━━━━━━━━\u001b[0m\u001b[37m\u001b[0m \u001b[1m0s\u001b[0m 2ms/step - binary_accuracy: 0.8572 - loss: 0.7031\n",
            "Epoch 52/100\n",
            "\u001b[1m43/43\u001b[0m \u001b[32m━━━━━━━━━━━━━━━━━━━━\u001b[0m\u001b[37m\u001b[0m \u001b[1m0s\u001b[0m 2ms/step - binary_accuracy: 0.8412 - loss: 0.8182\n",
            "Epoch 53/100\n",
            "\u001b[1m43/43\u001b[0m \u001b[32m━━━━━━━━━━━━━━━━━━━━\u001b[0m\u001b[37m\u001b[0m \u001b[1m0s\u001b[0m 2ms/step - binary_accuracy: 0.8520 - loss: 1.0210\n",
            "Epoch 54/100\n",
            "\u001b[1m43/43\u001b[0m \u001b[32m━━━━━━━━━━━━━━━━━━━━\u001b[0m\u001b[37m\u001b[0m \u001b[1m0s\u001b[0m 2ms/step - binary_accuracy: 0.7379 - loss: 1.3867\n",
            "Epoch 55/100\n",
            "\u001b[1m43/43\u001b[0m \u001b[32m━━━━━━━━━━━━━━━━━━━━\u001b[0m\u001b[37m\u001b[0m \u001b[1m0s\u001b[0m 2ms/step - binary_accuracy: 0.8585 - loss: 0.7230\n",
            "Epoch 56/100\n",
            "\u001b[1m43/43\u001b[0m \u001b[32m━━━━━━━━━━━━━━━━━━━━\u001b[0m\u001b[37m\u001b[0m \u001b[1m0s\u001b[0m 2ms/step - binary_accuracy: 0.7790 - loss: 1.3742\n",
            "Epoch 57/100\n",
            "\u001b[1m43/43\u001b[0m \u001b[32m━━━━━━━━━━━━━━━━━━━━\u001b[0m\u001b[37m\u001b[0m \u001b[1m0s\u001b[0m 2ms/step - binary_accuracy: 0.8336 - loss: 0.8903\n",
            "Epoch 58/100\n",
            "\u001b[1m43/43\u001b[0m \u001b[32m━━━━━━━━━━━━━━━━━━━━\u001b[0m\u001b[37m\u001b[0m \u001b[1m0s\u001b[0m 2ms/step - binary_accuracy: 0.8538 - loss: 0.6927\n",
            "Epoch 59/100\n",
            "\u001b[1m43/43\u001b[0m \u001b[32m━━━━━━━━━━━━━━━━━━━━\u001b[0m\u001b[37m\u001b[0m \u001b[1m0s\u001b[0m 2ms/step - binary_accuracy: 0.8207 - loss: 0.9642\n",
            "Epoch 60/100\n",
            "\u001b[1m43/43\u001b[0m \u001b[32m━━━━━━━━━━━━━━━━━━━━\u001b[0m\u001b[37m\u001b[0m \u001b[1m0s\u001b[0m 2ms/step - binary_accuracy: 0.7908 - loss: 1.8403\n",
            "Epoch 61/100\n",
            "\u001b[1m43/43\u001b[0m \u001b[32m━━━━━━━━━━━━━━━━━━━━\u001b[0m\u001b[37m\u001b[0m \u001b[1m0s\u001b[0m 2ms/step - binary_accuracy: 0.7671 - loss: 1.1412\n",
            "Epoch 62/100\n",
            "\u001b[1m43/43\u001b[0m \u001b[32m━━━━━━━━━━━━━━━━━━━━\u001b[0m\u001b[37m\u001b[0m \u001b[1m0s\u001b[0m 2ms/step - binary_accuracy: 0.8086 - loss: 1.1047\n",
            "Epoch 63/100\n",
            "\u001b[1m43/43\u001b[0m \u001b[32m━━━━━━━━━━━━━━━━━━━━\u001b[0m\u001b[37m\u001b[0m \u001b[1m0s\u001b[0m 2ms/step - binary_accuracy: 0.8455 - loss: 0.5952\n",
            "Epoch 64/100\n",
            "\u001b[1m43/43\u001b[0m \u001b[32m━━━━━━━━━━━━━━━━━━━━\u001b[0m\u001b[37m\u001b[0m \u001b[1m0s\u001b[0m 2ms/step - binary_accuracy: 0.8690 - loss: 0.9222\n",
            "Epoch 65/100\n",
            "\u001b[1m43/43\u001b[0m \u001b[32m━━━━━━━━━━━━━━━━━━━━\u001b[0m\u001b[37m\u001b[0m \u001b[1m0s\u001b[0m 2ms/step - binary_accuracy: 0.8519 - loss: 0.7779\n",
            "Epoch 66/100\n",
            "\u001b[1m43/43\u001b[0m \u001b[32m━━━━━━━━━━━━━━━━━━━━\u001b[0m\u001b[37m\u001b[0m \u001b[1m0s\u001b[0m 2ms/step - binary_accuracy: 0.8773 - loss: 0.6299\n",
            "Epoch 67/100\n",
            "\u001b[1m43/43\u001b[0m \u001b[32m━━━━━━━━━━━━━━━━━━━━\u001b[0m\u001b[37m\u001b[0m \u001b[1m0s\u001b[0m 2ms/step - binary_accuracy: 0.8490 - loss: 0.6488\n",
            "Epoch 68/100\n",
            "\u001b[1m43/43\u001b[0m \u001b[32m━━━━━━━━━━━━━━━━━━━━\u001b[0m\u001b[37m\u001b[0m \u001b[1m0s\u001b[0m 2ms/step - binary_accuracy: 0.8510 - loss: 1.2184\n",
            "Epoch 69/100\n",
            "\u001b[1m43/43\u001b[0m \u001b[32m━━━━━━━━━━━━━━━━━━━━\u001b[0m\u001b[37m\u001b[0m \u001b[1m0s\u001b[0m 2ms/step - binary_accuracy: 0.8373 - loss: 1.1356\n",
            "Epoch 70/100\n",
            "\u001b[1m43/43\u001b[0m \u001b[32m━━━━━━━━━━━━━━━━━━━━\u001b[0m\u001b[37m\u001b[0m \u001b[1m0s\u001b[0m 2ms/step - binary_accuracy: 0.8814 - loss: 0.5532\n",
            "Epoch 71/100\n",
            "\u001b[1m43/43\u001b[0m \u001b[32m━━━━━━━━━━━━━━━━━━━━\u001b[0m\u001b[37m\u001b[0m \u001b[1m0s\u001b[0m 2ms/step - binary_accuracy: 0.8353 - loss: 0.9268\n",
            "Epoch 72/100\n",
            "\u001b[1m43/43\u001b[0m \u001b[32m━━━━━━━━━━━━━━━━━━━━\u001b[0m\u001b[37m\u001b[0m \u001b[1m0s\u001b[0m 2ms/step - binary_accuracy: 0.8595 - loss: 0.6089\n",
            "Epoch 73/100\n",
            "\u001b[1m43/43\u001b[0m \u001b[32m━━━━━━━━━━━━━━━━━━━━\u001b[0m\u001b[37m\u001b[0m \u001b[1m0s\u001b[0m 2ms/step - binary_accuracy: 0.8817 - loss: 0.5836\n",
            "Epoch 74/100\n",
            "\u001b[1m43/43\u001b[0m \u001b[32m━━━━━━━━━━━━━━━━━━━━\u001b[0m\u001b[37m\u001b[0m \u001b[1m0s\u001b[0m 2ms/step - binary_accuracy: 0.8641 - loss: 0.8419\n",
            "Epoch 75/100\n",
            "\u001b[1m43/43\u001b[0m \u001b[32m━━━━━━━━━━━━━━━━━━━━\u001b[0m\u001b[37m\u001b[0m \u001b[1m0s\u001b[0m 2ms/step - binary_accuracy: 0.8615 - loss: 0.7143\n",
            "Epoch 76/100\n",
            "\u001b[1m43/43\u001b[0m \u001b[32m━━━━━━━━━━━━━━━━━━━━\u001b[0m\u001b[37m\u001b[0m \u001b[1m0s\u001b[0m 2ms/step - binary_accuracy: 0.8664 - loss: 0.7300\n",
            "Epoch 77/100\n",
            "\u001b[1m43/43\u001b[0m \u001b[32m━━━━━━━━━━━━━━━━━━━━\u001b[0m\u001b[37m\u001b[0m \u001b[1m0s\u001b[0m 2ms/step - binary_accuracy: 0.8806 - loss: 0.4945\n",
            "Epoch 78/100\n",
            "\u001b[1m43/43\u001b[0m \u001b[32m━━━━━━━━━━━━━━━━━━━━\u001b[0m\u001b[37m\u001b[0m \u001b[1m0s\u001b[0m 2ms/step - binary_accuracy: 0.8172 - loss: 1.0698\n",
            "Epoch 79/100\n",
            "\u001b[1m43/43\u001b[0m \u001b[32m━━━━━━━━━━━━━━━━━━━━\u001b[0m\u001b[37m\u001b[0m \u001b[1m0s\u001b[0m 2ms/step - binary_accuracy: 0.8957 - loss: 0.5742\n",
            "Epoch 80/100\n",
            "\u001b[1m43/43\u001b[0m \u001b[32m━━━━━━━━━━━━━━━━━━━━\u001b[0m\u001b[37m\u001b[0m \u001b[1m0s\u001b[0m 2ms/step - binary_accuracy: 0.8079 - loss: 1.1453\n",
            "Epoch 81/100\n",
            "\u001b[1m43/43\u001b[0m \u001b[32m━━━━━━━━━━━━━━━━━━━━\u001b[0m\u001b[37m\u001b[0m \u001b[1m0s\u001b[0m 2ms/step - binary_accuracy: 0.8763 - loss: 0.6439\n",
            "Epoch 82/100\n",
            "\u001b[1m43/43\u001b[0m \u001b[32m━━━━━━━━━━━━━━━━━━━━\u001b[0m\u001b[37m\u001b[0m \u001b[1m0s\u001b[0m 2ms/step - binary_accuracy: 0.8542 - loss: 0.6098\n",
            "Epoch 83/100\n",
            "\u001b[1m43/43\u001b[0m \u001b[32m━━━━━━━━━━━━━━━━━━━━\u001b[0m\u001b[37m\u001b[0m \u001b[1m0s\u001b[0m 2ms/step - binary_accuracy: 0.8157 - loss: 1.7042\n",
            "Epoch 84/100\n",
            "\u001b[1m43/43\u001b[0m \u001b[32m━━━━━━━━━━━━━━━━━━━━\u001b[0m\u001b[37m\u001b[0m \u001b[1m0s\u001b[0m 2ms/step - binary_accuracy: 0.8227 - loss: 1.1945\n",
            "Epoch 85/100\n",
            "\u001b[1m43/43\u001b[0m \u001b[32m━━━━━━━━━━━━━━━━━━━━\u001b[0m\u001b[37m\u001b[0m \u001b[1m0s\u001b[0m 2ms/step - binary_accuracy: 0.8078 - loss: 1.5662\n",
            "Epoch 86/100\n",
            "\u001b[1m43/43\u001b[0m \u001b[32m━━━━━━━━━━━━━━━━━━━━\u001b[0m\u001b[37m\u001b[0m \u001b[1m0s\u001b[0m 2ms/step - binary_accuracy: 0.8404 - loss: 1.0027\n",
            "Epoch 87/100\n",
            "\u001b[1m43/43\u001b[0m \u001b[32m━━━━━━━━━━━━━━━━━━━━\u001b[0m\u001b[37m\u001b[0m \u001b[1m0s\u001b[0m 2ms/step - binary_accuracy: 0.8895 - loss: 0.6714\n",
            "Epoch 88/100\n",
            "\u001b[1m43/43\u001b[0m \u001b[32m━━━━━━━━━━━━━━━━━━━━\u001b[0m\u001b[37m\u001b[0m \u001b[1m0s\u001b[0m 2ms/step - binary_accuracy: 0.8787 - loss: 0.9135\n",
            "Epoch 89/100\n",
            "\u001b[1m43/43\u001b[0m \u001b[32m━━━━━━━━━━━━━━━━━━━━\u001b[0m\u001b[37m\u001b[0m \u001b[1m0s\u001b[0m 2ms/step - binary_accuracy: 0.9014 - loss: 0.6825\n",
            "Epoch 90/100\n",
            "\u001b[1m43/43\u001b[0m \u001b[32m━━━━━━━━━━━━━━━━━━━━\u001b[0m\u001b[37m\u001b[0m \u001b[1m0s\u001b[0m 2ms/step - binary_accuracy: 0.8219 - loss: 0.8528\n",
            "Epoch 91/100\n",
            "\u001b[1m43/43\u001b[0m \u001b[32m━━━━━━━━━━━━━━━━━━━━\u001b[0m\u001b[37m\u001b[0m \u001b[1m0s\u001b[0m 3ms/step - binary_accuracy: 0.8401 - loss: 0.7635\n",
            "Epoch 92/100\n",
            "\u001b[1m43/43\u001b[0m \u001b[32m━━━━━━━━━━━━━━━━━━━━\u001b[0m\u001b[37m\u001b[0m \u001b[1m0s\u001b[0m 3ms/step - binary_accuracy: 0.8735 - loss: 0.6131\n",
            "Epoch 93/100\n",
            "\u001b[1m43/43\u001b[0m \u001b[32m━━━━━━━━━━━━━━━━━━━━\u001b[0m\u001b[37m\u001b[0m \u001b[1m0s\u001b[0m 3ms/step - binary_accuracy: 0.8786 - loss: 0.7197\n",
            "Epoch 94/100\n",
            "\u001b[1m43/43\u001b[0m \u001b[32m━━━━━━━━━━━━━━━━━━━━\u001b[0m\u001b[37m\u001b[0m \u001b[1m0s\u001b[0m 3ms/step - binary_accuracy: 0.8793 - loss: 0.6119\n",
            "Epoch 95/100\n",
            "\u001b[1m43/43\u001b[0m \u001b[32m━━━━━━━━━━━━━━━━━━━━\u001b[0m\u001b[37m\u001b[0m \u001b[1m0s\u001b[0m 3ms/step - binary_accuracy: 0.8173 - loss: 1.2476\n",
            "Epoch 96/100\n",
            "\u001b[1m43/43\u001b[0m \u001b[32m━━━━━━━━━━━━━━━━━━━━\u001b[0m\u001b[37m\u001b[0m \u001b[1m0s\u001b[0m 4ms/step - binary_accuracy: 0.7794 - loss: 1.2610\n",
            "Epoch 97/100\n",
            "\u001b[1m43/43\u001b[0m \u001b[32m━━━━━━━━━━━━━━━━━━━━\u001b[0m\u001b[37m\u001b[0m \u001b[1m0s\u001b[0m 3ms/step - binary_accuracy: 0.8636 - loss: 0.5809\n",
            "Epoch 98/100\n",
            "\u001b[1m43/43\u001b[0m \u001b[32m━━━━━━━━━━━━━━━━━━━━\u001b[0m\u001b[37m\u001b[0m \u001b[1m0s\u001b[0m 3ms/step - binary_accuracy: 0.8063 - loss: 1.0651\n",
            "Epoch 99/100\n",
            "\u001b[1m43/43\u001b[0m \u001b[32m━━━━━━━━━━━━━━━━━━━━\u001b[0m\u001b[37m\u001b[0m \u001b[1m0s\u001b[0m 4ms/step - binary_accuracy: 0.8560 - loss: 0.8422\n",
            "Epoch 100/100\n",
            "\u001b[1m43/43\u001b[0m \u001b[32m━━━━━━━━━━━━━━━━━━━━\u001b[0m\u001b[37m\u001b[0m \u001b[1m0s\u001b[0m 3ms/step - binary_accuracy: 0.8559 - loss: 0.6509\n"
          ]
        },
        {
          "output_type": "execute_result",
          "data": {
            "text/plain": [
              "<keras.src.callbacks.history.History at 0x7e7130e487f0>"
            ]
          },
          "metadata": {},
          "execution_count": 15
        }
      ]
    },
    {
      "cell_type": "code",
      "source": [
        "import matplotlib.pyplot as plt\n",
        "plt.plot(classifier.history.history['loss'])\n",
        "plt.plot(classifier.history.history['binary_accuracy'])\n",
        "plt.title('model loss')\n",
        "plt.ylabel('loss')\n",
        "plt.xlabel('epoch')\n",
        "plt.legend(['train', 'test'], loc='upper left')\n",
        "plt.show()\n"
      ],
      "metadata": {
        "colab": {
          "base_uri": "https://localhost:8080/",
          "height": 472
        },
        "id": "GUuYP7L_q6uw",
        "outputId": "484efeb7-fb79-4cda-eda3-6b18d4acc6e2"
      },
      "execution_count": 16,
      "outputs": [
        {
          "output_type": "display_data",
          "data": {
            "text/plain": [
              "<Figure size 640x480 with 1 Axes>"
            ],
            "image/png": "[encoded data removed]"
          },
          "metadata": {}
        }
      ]
    },
    {
      "cell_type": "code",
      "source": [
        "classifier.summary()"
      ],
      "metadata": {
        "colab": {
          "base_uri": "https://localhost:8080/",
          "height": 221
        },
        "id": "qZ3ibD2KNhAP",
        "outputId": "631fa7cb-5194-4614-baa6-58519a4c67bd"
      },
      "execution_count": 20,
      "outputs": [
        {
          "output_type": "display_data",
          "data": {
            "text/plain": [
              "\u001b[1mModel: \"sequential\"\u001b[0m\n"
            ],
            "text/html": [
              "<pre style=\"white-space:pre;overflow-x:auto;line-height:normal;font-family:Menlo,'DejaVu Sans Mono',consolas,'Courier New',monospace\"><span style=\"font-weight: bold\">Model: \"sequential\"</span>\n",
              "</pre>\n"
            ]
          },
          "metadata": {}
        },
        {
          "output_type": "display_data",
          "data": {
            "text/plain": [
              "┏━━━━━━━━━━━━━━━━━━━━━━━━━━━━━━━━━━━━━━┳━━━━━━━━━━━━━━━━━━━━━━━━━━━━━┳━━━━━━━━━━━━━━━━━┓\n",
              "┃\u001b[1m \u001b[0m\u001b[1mLayer (type)                        \u001b[0m\u001b[1m \u001b[0m┃\u001b[1m \u001b[0m\u001b[1mOutput Shape               \u001b[0m\u001b[1m \u001b[0m┃\u001b[1m \u001b[0m\u001b[1m        Param #\u001b[0m\u001b[1m \u001b[0m┃\n",
              "┡━━━━━━━━━━━━━━━━━━━━━━━━━━━━━━━━━━━━━━╇━━━━━━━━━━━━━━━━━━━━━━━━━━━━━╇━━━━━━━━━━━━━━━━━┩\n",
              "│ dense (\u001b[38;5;33mDense\u001b[0m)                        │ (\u001b[38;5;45mNone\u001b[0m, \u001b[38;5;34m16\u001b[0m)                  │             \u001b[38;5;34m496\u001b[0m │\n",
              "├──────────────────────────────────────┼─────────────────────────────┼─────────────────┤\n",
              "│ dense_1 (\u001b[38;5;33mDense\u001b[0m)                      │ (\u001b[38;5;45mNone\u001b[0m, \u001b[38;5;34m1\u001b[0m)                   │              \u001b[38;5;34m17\u001b[0m │\n",
              "└──────────────────────────────────────┴─────────────────────────────┴─────────────────┘\n"
            ],
            "text/html": [
              "<pre style=\"white-space:pre;overflow-x:auto;line-height:normal;font-family:Menlo,'DejaVu Sans Mono',consolas,'Courier New',monospace\">┏━━━━━━━━━━━━━━━━━━━━━━━━━━━━━━━━━━━━━━┳━━━━━━━━━━━━━━━━━━━━━━━━━━━━━┳━━━━━━━━━━━━━━━━━┓\n",
              "┃<span style=\"font-weight: bold\"> Layer (type)                         </span>┃<span style=\"font-weight: bold\"> Output Shape                </span>┃<span style=\"font-weight: bold\">         Param # </span>┃\n",
              "┡━━━━━━━━━━━━━━━━━━━━━━━━━━━━━━━━━━━━━━╇━━━━━━━━━━━━━━━━━━━━━━━━━━━━━╇━━━━━━━━━━━━━━━━━┩\n",
              "│ dense (<span style=\"color: #0087ff; text-decoration-color: #0087ff\">Dense</span>)                        │ (<span style=\"color: #00d7ff; text-decoration-color: #00d7ff\">None</span>, <span style=\"color: #00af00; text-decoration-color: #00af00\">16</span>)                  │             <span style=\"color: #00af00; text-decoration-color: #00af00\">496</span> │\n",
              "├──────────────────────────────────────┼─────────────────────────────┼─────────────────┤\n",
              "│ dense_1 (<span style=\"color: #0087ff; text-decoration-color: #0087ff\">Dense</span>)                      │ (<span style=\"color: #00d7ff; text-decoration-color: #00d7ff\">None</span>, <span style=\"color: #00af00; text-decoration-color: #00af00\">1</span>)                   │              <span style=\"color: #00af00; text-decoration-color: #00af00\">17</span> │\n",
              "└──────────────────────────────────────┴─────────────────────────────┴─────────────────┘\n",
              "</pre>\n"
            ]
          },
          "metadata": {}
        },
        {
          "output_type": "display_data",
          "data": {
            "text/plain": [
              "\u001b[1m Total params: \u001b[0m\u001b[38;5;34m1,541\u001b[0m (6.02 KB)\n"
            ],
            "text/html": [
              "<pre style=\"white-space:pre;overflow-x:auto;line-height:normal;font-family:Menlo,'DejaVu Sans Mono',consolas,'Courier New',monospace\"><span style=\"font-weight: bold\"> Total params: </span><span style=\"color: #00af00; text-decoration-color: #00af00\">1,541</span> (6.02 KB)\n",
              "</pre>\n"
            ]
          },
          "metadata": {}
        },
        {
          "output_type": "display_data",
          "data": {
            "text/plain": [
              "\u001b[1m Trainable params: \u001b[0m\u001b[38;5;34m513\u001b[0m (2.00 KB)\n"
            ],
            "text/html": [
              "<pre style=\"white-space:pre;overflow-x:auto;line-height:normal;font-family:Menlo,'DejaVu Sans Mono',consolas,'Courier New',monospace\"><span style=\"font-weight: bold\"> Trainable params: </span><span style=\"color: #00af00; text-decoration-color: #00af00\">513</span> (2.00 KB)\n",
              "</pre>\n"
            ]
          },
          "metadata": {}
        },
        {
          "output_type": "display_data",
          "data": {
            "text/plain": [
              "\u001b[1m Non-trainable params: \u001b[0m\u001b[38;5;34m0\u001b[0m (0.00 B)\n"
            ],
            "text/html": [
              "<pre style=\"white-space:pre;overflow-x:auto;line-height:normal;font-family:Menlo,'DejaVu Sans Mono',consolas,'Courier New',monospace\"><span style=\"font-weight: bold\"> Non-trainable params: </span><span style=\"color: #00af00; text-decoration-color: #00af00\">0</span> (0.00 B)\n",
              "</pre>\n"
            ]
          },
          "metadata": {}
        },
        {
          "output_type": "display_data",
          "data": {
            "text/plain": [
              "\u001b[1m Optimizer params: \u001b[0m\u001b[38;5;34m1,028\u001b[0m (4.02 KB)\n"
            ],
            "text/html": [
              "<pre style=\"white-space:pre;overflow-x:auto;line-height:normal;font-family:Menlo,'DejaVu Sans Mono',consolas,'Courier New',monospace\"><span style=\"font-weight: bold\"> Optimizer params: </span><span style=\"color: #00af00; text-decoration-color: #00af00\">1,028</span> (4.02 KB)\n",
              "</pre>\n"
            ]
          },
          "metadata": {}
        }
      ]
    },
    {
      "cell_type": "code",
      "source": [
        "weight = classifier.layers[0].get_weights()\n",
        "weight"
      ],
      "metadata": {
        "colab": {
          "base_uri": "https://localhost:8080/"
        },
        "id": "MGFhYSX_Np_C",
        "outputId": "2d768971-0f53-44d7-f6d3-cf9ff8477330"
      },
      "execution_count": 29,
      "outputs": [
        {
          "output_type": "execute_result",
          "data": {
            "text/plain": [
              "[array([[-1.63608477e-01, -2.59108655e-02, -2.01958179e-01,\n",
              "          9.64801293e-03, -2.60681450e-01, -6.33557811e-02,\n",
              "         -1.11989565e-02, -6.12664334e-02,  5.74584631e-03,\n",
              "         -9.00990516e-02, -1.72624916e-01, -1.21697858e-01,\n",
              "         -8.71971902e-03, -4.23926599e-02, -4.39371914e-02,\n",
              "         -1.04711719e-01],\n",
              "        [-1.63626567e-01, -2.33829841e-02, -1.66951284e-01,\n",
              "          4.08141054e-02, -3.09296846e-01, -9.33008343e-02,\n",
              "         -7.21943844e-03, -1.52327597e-01,  5.09221442e-02,\n",
              "         -7.97767639e-02, -1.42891064e-01, -1.58291087e-01,\n",
              "         -1.28794434e-02, -3.20088491e-02, -7.03533040e-03,\n",
              "         -1.22839905e-01],\n",
              "        [ 4.81667593e-02,  9.02894959e-02, -1.17005620e-04,\n",
              "          3.56272459e-02, -6.10719062e-02,  5.35693765e-03,\n",
              "         -8.90229121e-02,  6.41578734e-02, -3.85623723e-02,\n",
              "         -9.82180797e-03, -1.76328182e-01,  4.90834676e-02,\n",
              "         -3.98288891e-02, -8.50938261e-04,  5.12156747e-02,\n",
              "          5.33935651e-02],\n",
              "        [ 1.41165340e-02,  6.39664829e-02,  1.30901247e-01,\n",
              "          1.34579921e-02, -1.81559753e-02,  4.80024740e-02,\n",
              "          5.08687608e-02,  6.88840449e-02, -6.22456931e-02,\n",
              "         -4.53052372e-02, -1.63666710e-01,  2.67425217e-02,\n",
              "         -4.04420085e-02, -3.39325517e-03,  3.64038944e-02,\n",
              "          6.25345781e-02],\n",
              "        [-1.82424933e-01, -6.74592033e-02, -7.74019584e-03,\n",
              "         -7.81441340e-04,  2.08680015e-02, -1.39763817e-01,\n",
              "         -2.48641260e-02,  5.28960861e-03,  1.02629010e-02,\n",
              "         -8.03096220e-02,  9.76189002e-02,  4.82308976e-02,\n",
              "          2.00090837e-02,  2.76631154e-02, -1.72289461e-02,\n",
              "         -1.13503441e-01],\n",
              "        [-3.82946394e-02,  5.64445816e-02,  3.85570563e-02,\n",
              "          1.03650093e-02, -1.17744189e-02,  1.80862360e-02,\n",
              "         -2.06202231e-02,  1.08737068e-03, -1.02981068e-01,\n",
              "          1.17531046e-02, -5.95239215e-02, -4.94230986e-02,\n",
              "         -3.65045527e-03,  2.36824192e-02,  3.90655268e-03,\n",
              "          1.14110932e-01],\n",
              "        [-7.04195946e-02,  1.92188978e-01, -1.11722112e-01,\n",
              "          6.15102388e-02, -8.16113129e-02, -7.30936006e-02,\n",
              "         -8.59502405e-02,  3.01338378e-02, -5.18546626e-02,\n",
              "         -6.21099249e-02, -3.25992182e-02, -3.48252840e-02,\n",
              "          1.20097576e-02,  2.49785222e-02,  1.52216077e-01,\n",
              "         -1.90104648e-01],\n",
              "        [ 3.08523215e-02,  2.78001070e-01, -2.72772610e-01,\n",
              "          5.84987598e-03,  2.21811365e-02, -9.11768749e-02,\n",
              "         -2.84092277e-02,  1.11097313e-01,  5.99616989e-02,\n",
              "         -9.27147791e-02, -3.45805176e-02,  1.74853634e-02,\n",
              "          6.99109435e-02, -2.46747490e-02,  2.21124202e-01,\n",
              "         -2.72426337e-01],\n",
              "        [ 3.54451239e-02,  3.75883758e-01,  3.50441337e-02,\n",
              "          5.91185577e-02,  2.04593733e-01, -4.73381251e-01,\n",
              "          3.14307511e-02, -4.07901816e-02, -4.90960106e-02,\n",
              "         -3.76692899e-02, -1.44051574e-02,  1.20922200e-01,\n",
              "          3.18339607e-03, -1.01456642e-02,  2.46644169e-01,\n",
              "         -2.45276868e-01],\n",
              "        [ 1.23385035e-01, -6.96523339e-02,  1.70553014e-01,\n",
              "          1.56921476e-01,  2.63648219e-02,  2.32460231e-01,\n",
              "         -1.21206850e-01,  1.45840928e-01, -4.13045026e-02,\n",
              "          1.85863916e-02,  9.03006364e-03,  5.38947582e-02,\n",
              "         -9.60615128e-02,  5.01168892e-03, -6.88552037e-02,\n",
              "          1.31017610e-01],\n",
              "        [-1.23654762e-02,  1.85200870e-01, -3.04964483e-01,\n",
              "          2.38629780e-03,  1.31902695e-01,  9.10514966e-03,\n",
              "         -4.25777119e-03,  3.77524234e-02,  2.54193515e-01,\n",
              "         -4.58211713e-02, -2.04625830e-01,  4.05706540e-02,\n",
              "         -1.45929856e-02,  3.85128334e-03,  9.37541276e-02,\n",
              "          7.59261250e-02],\n",
              "        [ 1.18422639e-02,  1.62025332e-01, -1.92729443e-01,\n",
              "          7.81839415e-02,  3.06932516e-02,  1.12097515e-02,\n",
              "          2.16353927e-02,  1.82596724e-02,  5.14069907e-02,\n",
              "          3.46616879e-02,  3.25665027e-02,  8.93228780e-03,\n",
              "         -4.76969667e-02, -1.25816837e-02,  8.99435803e-02,\n",
              "         -2.83376686e-02],\n",
              "        [ 1.96731463e-02,  1.19951010e-01,  8.89130905e-02,\n",
              "          9.68159060e-04,  2.50211414e-02, -2.47424073e-03,\n",
              "          5.23454994e-02,  2.15123352e-02, -2.90320255e-02,\n",
              "         -8.42418894e-02,  4.93372791e-02,  1.30545453e-03,\n",
              "          3.24970367e-03, -2.78105028e-02,  9.21699181e-02,\n",
              "          1.34594217e-02],\n",
              "        [-3.44538659e-01,  1.25614747e-01, -5.53530931e-01,\n",
              "          6.90412372e-02, -4.22881901e-01, -2.80287057e-01,\n",
              "          6.43974766e-02, -2.77000159e-01,  1.08098239e-02,\n",
              "         -6.56660050e-02, -3.32186252e-01, -3.68340790e-01,\n",
              "          1.70355290e-03, -4.41954844e-02,  2.22382054e-01,\n",
              "         -6.01075530e-01],\n",
              "        [-1.71959326e-01,  5.80695756e-02, -2.04286397e-01,\n",
              "         -6.03204630e-02, -3.83521676e-01, -1.33687004e-01,\n",
              "          1.08708911e-01, -1.55850008e-01,  6.82253838e-02,\n",
              "         -5.67078888e-02, -1.44986659e-01, -1.85819015e-01,\n",
              "          9.14220326e-03, -2.50297319e-02,  6.91389805e-03,\n",
              "         -1.16638780e-01],\n",
              "        [-8.86259675e-02,  1.94959324e-02, -4.21119094e-01,\n",
              "         -1.06434420e-01, -2.09031645e-02, -1.17205590e-01,\n",
              "          7.60846585e-02, -4.99824584e-02, -2.22879406e-02,\n",
              "         -5.84908798e-02,  5.36521897e-03, -5.84920980e-02,\n",
              "          2.28757635e-02, -1.76529288e-02, -1.57957748e-02,\n",
              "         -1.09122805e-01],\n",
              "        [ 2.03509182e-01, -6.33491874e-02,  3.41381468e-02,\n",
              "          1.77651733e-01,  1.54100031e-01,  1.92626119e-01,\n",
              "         -1.35676757e-01,  1.64457947e-01, -9.48838443e-02,\n",
              "         -4.86325752e-03, -1.35892327e-03,  1.84274003e-01,\n",
              "         -5.52821830e-02, -3.74161378e-02, -3.11614554e-02,\n",
              "         -1.00835279e-01],\n",
              "        [ 1.10645384e-01, -2.06756681e-01,  2.50723273e-01,\n",
              "          2.66736805e-01,  9.04711112e-02,  3.31478328e-01,\n",
              "         -1.91856518e-01, -2.32355427e-02, -6.10838309e-02,\n",
              "         -7.86303058e-02,  5.06374575e-02,  1.57791615e-01,\n",
              "         -8.96883011e-02,  4.96936180e-02, -1.87487736e-01,\n",
              "          2.98155874e-01],\n",
              "        [-1.39104888e-01,  5.85958250e-02,  9.75088403e-02,\n",
              "         -8.57244954e-02, -2.35524312e-01, -1.29447341e-01,\n",
              "          1.01147622e-01,  1.58201046e-02, -7.02356398e-02,\n",
              "         -1.52354702e-01, -1.94703460e-01, -3.18430066e-02,\n",
              "         -1.19216610e-02, -2.19726562e-03,  8.27183425e-02,\n",
              "          1.02073558e-01],\n",
              "        [-4.11101669e-01,  3.61016423e-01, -3.16352606e-01,\n",
              "         -4.21852648e-01, -4.31944668e-01, -5.15886128e-01,\n",
              "          4.42317963e-01, -4.17985409e-01,  2.14167804e-01,\n",
              "         -5.29813170e-02, -2.37222761e-01, -4.14142132e-01,\n",
              "          1.24828570e-01, -1.89121608e-02,  3.78462166e-01,\n",
              "         -2.95174181e-01],\n",
              "        [-1.35037437e-01, -6.49223551e-02, -2.93832630e-01,\n",
              "          5.38908783e-03, -2.53189147e-01, -5.25544174e-02,\n",
              "          6.38938363e-05, -1.54496178e-01,  1.16846233e-03,\n",
              "         -1.23753779e-01, -1.80231184e-01, -1.75666913e-01,\n",
              "         -2.78631449e-02, -4.92357388e-02, -1.25264982e-02,\n",
              "         -1.53213069e-01],\n",
              "        [-8.69576335e-02,  1.12641878e-01, -2.11996064e-01,\n",
              "         -2.13334206e-02, -2.64867753e-01, -1.46789536e-01,\n",
              "          1.53196147e-02, -1.28869101e-01,  4.66817468e-02,\n",
              "         -4.58481088e-02, -2.00537682e-01, -1.06016338e-01,\n",
              "          2.08041407e-02, -2.20892783e-02,  1.03122152e-01,\n",
              "         -1.20550990e-01],\n",
              "        [ 2.85686720e-02,  1.38864249e-01,  7.48441666e-02,\n",
              "          3.36463042e-02, -1.14193685e-01, -1.85074937e-03,\n",
              "         -2.12478191e-02, -3.46435867e-02,  2.16145702e-02,\n",
              "          7.22341286e-03, -2.00603783e-01,  1.48263955e-02,\n",
              "         -1.63676534e-02,  1.28142908e-03,  9.87640992e-02,\n",
              "         -3.18250358e-02],\n",
              "        [-1.01190424e-02,  1.70522168e-01,  7.73096830e-02,\n",
              "         -2.31359038e-03, -5.41806174e-03, -1.77047588e-02,\n",
              "          7.06371367e-02, -6.23941496e-02, -7.10247084e-02,\n",
              "         -8.75682104e-03, -1.09224923e-01, -1.28792748e-02,\n",
              "          4.04059468e-03, -2.88040880e-02,  1.32895768e-01,\n",
              "         -1.96919474e-03],\n",
              "        [-3.56094656e-03,  1.23670973e-01, -1.09343074e-01,\n",
              "          6.47824854e-02, -2.22473428e-01, -1.45544514e-01,\n",
              "         -9.13564488e-03, -4.33529844e-04, -1.45950302e-01,\n",
              "         -1.35004729e-01, -2.04331070e-01,  1.97287053e-02,\n",
              "         -2.95710210e-02, -4.40570824e-02,  5.89425154e-02,\n",
              "          1.57548040e-02],\n",
              "        [ 8.49523395e-02,  4.66452390e-01, -1.91751169e-03,\n",
              "          9.67419054e-03, -5.80171421e-02, -1.45638697e-02,\n",
              "         -1.71444714e-02,  4.06549359e-03,  1.03906775e-02,\n",
              "          1.80075280e-02, -3.76127213e-02,  6.68027475e-02,\n",
              "         -3.04794516e-02, -3.08290124e-02,  2.74438530e-01,\n",
              "         -1.08915530e-01],\n",
              "        [-7.42261633e-02,  2.69644260e-01, -2.36187074e-02,\n",
              "          6.05639257e-02, -2.54891515e-02,  1.13214284e-01,\n",
              "         -3.19621675e-02, -2.25766285e-04, -1.04046047e-01,\n",
              "          2.33822968e-02, -6.16212972e-02, -8.39954317e-02,\n",
              "         -6.50931820e-02, -4.90072034e-02,  8.43840837e-02,\n",
              "          7.64130950e-02],\n",
              "        [-1.99216567e-02,  1.41841024e-01, -4.27221239e-01,\n",
              "         -4.04531732e-02,  1.48730963e-01,  9.17256773e-02,\n",
              "          9.49072279e-03,  7.51855224e-03, -8.21227506e-02,\n",
              "         -5.36597595e-02,  9.27966759e-02,  2.85935844e-03,\n",
              "         -5.71854366e-03,  3.81210111e-02, -6.51302710e-02,\n",
              "          4.49808866e-01],\n",
              "        [-2.67497599e-01,  1.71390131e-01, -5.16167507e-02,\n",
              "          2.24632956e-02,  4.03015316e-02, -3.72216222e-03,\n",
              "          3.31612246e-04,  1.10353582e-01, -2.54646391e-02,\n",
              "         -6.84738997e-03,  1.38605312e-01,  6.21051490e-02,\n",
              "         -7.06921099e-03, -4.28936481e-02,  6.93835020e-02,\n",
              "          6.57876357e-02],\n",
              "        [-2.57418394e-01, -1.77590623e-01, -1.89403832e-01,\n",
              "          5.77706844e-02, -2.09257603e-01, -3.30085610e-03,\n",
              "         -3.95657346e-02, -2.13333338e-01, -2.22903386e-01,\n",
              "         -8.63591805e-02, -5.45765087e-02, -2.24246800e-01,\n",
              "          1.61218252e-02, -2.61045452e-02, -1.48287892e-01,\n",
              "         -2.41250023e-01]], dtype=float32),\n",
              " array([ 0.13725495, -0.2911663 ,  0.17635734,  0.32991293, -0.03099285,\n",
              "         0.3001982 , -0.2971446 ,  0.1751422 , -0.0972353 , -0.08018921,\n",
              "        -0.05212783,  0.14029108, -0.09042562,  0.        , -0.29864272,\n",
              "         0.2611064 ], dtype=float32)]"
            ]
          },
          "metadata": {},
          "execution_count": 29
        }
      ]
    }
  ]
}