{
  "nbformat": 4,
  "nbformat_minor": 0,
  "metadata": {
    "colab": {
      "provenance": []
    },
    "kernelspec": {
      "name": "python3",
      "display_name": "Python 3"
    },
    "language_info": {
      "name": "python"
    }
  },
  "cells": [
    {
      "cell_type": "markdown",
      "source": [
        "# Natural Language Processing  - NLP\n"
      ],
      "metadata": {
        "id": "tkcUgWTL2Tf3"
      }
    },
    {
      "cell_type": "code",
      "source": [
        "%tensorflow_version 2.x\n",
        "import numpy as np\n",
        "import pandas as pd\n",
        "import matplotlib.pyplot as plt\n",
        "import seaborn as sns\n",
        "import tensorflow as tf"
      ],
      "metadata": {
        "colab": {
          "base_uri": "https://localhost:8080/"
        },
        "id": "BFQ1G2Wn2ADb",
        "outputId": "6785a62e-56f8-4633-8759-91049fbc037c"
      },
      "execution_count": 1,
      "outputs": [
        {
          "output_type": "stream",
          "name": "stdout",
          "text": [
            "Colab only includes TensorFlow 2.x; %tensorflow_version has no effect.\n"
          ]
        }
      ]
    },
    {
      "cell_type": "code",
      "source": [
        "# I can download the Coriolanus Tragedy play by William Shakespeare from cloud storage in GCP.\n",
        "file_path = tf.keras.utils.get_file('shakespeare.txt', 'https://storage.googleapis.com/download.tensorflow.org/data/shakespeare.txt')"
      ],
      "metadata": {
        "colab": {
          "base_uri": "https://localhost:8080/"
        },
        "id": "kw-6E1Zl2JRa",
        "outputId": "ec13f021-a99c-40ed-8790-64826976f193"
      },
      "execution_count": 2,
      "outputs": [
        {
          "output_type": "stream",
          "name": "stdout",
          "text": [
            "Downloading data from https://storage.googleapis.com/download.tensorflow.org/data/shakespeare.txt\n",
            "1115394/1115394 [==============================] - 0s 0us/step\n"
          ]
        }
      ]
    },
    {
      "cell_type": "code",
      "source": [
        "# The mode 'rb' indicates that the file will be opened in binary mode for reading.\n",
        "text = open(file_path, 'rb').read().decode(encoding='utf-8')"
      ],
      "metadata": {
        "id": "DunxHUa02oSj"
      },
      "execution_count": 3,
      "outputs": []
    },
    {
      "cell_type": "code",
      "source": [
        "# print 200 first character\n",
        "print(text[:200])"
      ],
      "metadata": {
        "colab": {
          "base_uri": "https://localhost:8080/"
        },
        "id": "5Sfu9q_927NU",
        "outputId": "c8e4514d-b5a6-4c18-bc25-a1bba5b80b83"
      },
      "execution_count": 4,
      "outputs": [
        {
          "output_type": "stream",
          "name": "stdout",
          "text": [
            "First Citizen:\n",
            "Before we proceed any further, hear me speak.\n",
            "\n",
            "All:\n",
            "Speak, speak.\n",
            "\n",
            "First Citizen:\n",
            "You are all resolved rather to die than to famish?\n",
            "\n",
            "All:\n",
            "Resolved. resolved.\n",
            "\n",
            "First Citizen:\n",
            "First, you\n"
          ]
        }
      ]
    },
    {
      "cell_type": "code",
      "source": [
        "text_char = sorted(set(text))\n",
        "#create dictionary with all caracters\n",
        "text_char_index = dict((char, index) for index, char in enumerate(text_char))\n",
        "print(text_char_index)"
      ],
      "metadata": {
        "colab": {
          "base_uri": "https://localhost:8080/"
        },
        "id": "YNpU9W6knciI",
        "outputId": "23c05c44-64fd-4c77-d9ed-6b191aad15c6"
      },
      "execution_count": 5,
      "outputs": [
        {
          "output_type": "stream",
          "name": "stdout",
          "text": [
            "{'\\n': 0, ' ': 1, '!': 2, '$': 3, '&': 4, \"'\": 5, ',': 6, '-': 7, '.': 8, '3': 9, ':': 10, ';': 11, '?': 12, 'A': 13, 'B': 14, 'C': 15, 'D': 16, 'E': 17, 'F': 18, 'G': 19, 'H': 20, 'I': 21, 'J': 22, 'K': 23, 'L': 24, 'M': 25, 'N': 26, 'O': 27, 'P': 28, 'Q': 29, 'R': 30, 'S': 31, 'T': 32, 'U': 33, 'V': 34, 'W': 35, 'X': 36, 'Y': 37, 'Z': 38, 'a': 39, 'b': 40, 'c': 41, 'd': 42, 'e': 43, 'f': 44, 'g': 45, 'h': 46, 'i': 47, 'j': 48, 'k': 49, 'l': 50, 'm': 51, 'n': 52, 'o': 53, 'p': 54, 'q': 55, 'r': 56, 's': 57, 't': 58, 'u': 59, 'v': 60, 'w': 61, 'x': 62, 'y': 63, 'z': 64}\n"
          ]
        }
      ]
    },
    {
      "cell_type": "markdown",
      "source": [
        "## In this step, I iterate through each character in the text. For each character, I replace it with the corresponding character from an indexed dictionary created in the previous cell."
      ],
      "metadata": {
        "id": "PtnW3mOCTHoK"
      }
    },
    {
      "cell_type": "code",
      "source": [
        "# Encode the text using the character dictionary\n",
        "encoded_text = np.array([text_char_index[char] for char in text])\n",
        "text_shap = encoded_text.shape\n",
        "print(f'text shape: {text_shap}')\n",
        "\n",
        "# Print the encoded text\n",
        "print(encoded_text[:200])\n"
      ],
      "metadata": {
        "colab": {
          "base_uri": "https://localhost:8080/"
        },
        "id": "GsH1TlDmQrkb",
        "outputId": "8e3fe5da-0533-4071-b2ca-13b5338c2193"
      },
      "execution_count": 6,
      "outputs": [
        {
          "output_type": "stream",
          "name": "stdout",
          "text": [
            "text shape: (1115394,)\n",
            "[18 47 56 57 58  1 15 47 58 47 64 43 52 10  0 14 43 44 53 56 43  1 61 43\n",
            "  1 54 56 53 41 43 43 42  1 39 52 63  1 44 59 56 58 46 43 56  6  1 46 43\n",
            " 39 56  1 51 43  1 57 54 43 39 49  8  0  0 13 50 50 10  0 31 54 43 39 49\n",
            "  6  1 57 54 43 39 49  8  0  0 18 47 56 57 58  1 15 47 58 47 64 43 52 10\n",
            "  0 37 53 59  1 39 56 43  1 39 50 50  1 56 43 57 53 50 60 43 42  1 56 39\n",
            " 58 46 43 56  1 58 53  1 42 47 43  1 58 46 39 52  1 58 53  1 44 39 51 47\n",
            " 57 46 12  0  0 13 50 50 10  0 30 43 57 53 50 60 43 42  8  1 56 43 57 53\n",
            " 50 60 43 42  8  0  0 18 47 56 57 58  1 15 47 58 47 64 43 52 10  0 18 47\n",
            " 56 57 58  6  1 63 53 59]\n"
          ]
        }
      ]
    },
    {
      "cell_type": "code",
      "source": [
        "# original text\n",
        "text[:200]"
      ],
      "metadata": {
        "colab": {
          "base_uri": "https://localhost:8080/",
          "height": 54
        },
        "id": "Dxec7phJQX6k",
        "outputId": "1d4532a8-a882-4eba-f740-fdfae8cf3042"
      },
      "execution_count": 7,
      "outputs": [
        {
          "output_type": "execute_result",
          "data": {
            "text/plain": [
              "'First Citizen:\\nBefore we proceed any further, hear me speak.\\n\\nAll:\\nSpeak, speak.\\n\\nFirst Citizen:\\nYou are all resolved rather to die than to famish?\\n\\nAll:\\nResolved. resolved.\\n\\nFirst Citizen:\\nFirst, you'"
            ],
            "application/vnd.google.colaboratory.intrinsic+json": {
              "type": "string"
            }
          },
          "metadata": {},
          "execution_count": 7
        }
      ]
    },
    {
      "cell_type": "code",
      "source": [
        "# This line of code creates a TensorFlow Datase\n",
        "dataset_tf = tf.data.Dataset.from_tensor_slices(encoded_text)\n",
        "type(dataset_tf)"
      ],
      "metadata": {
        "colab": {
          "base_uri": "https://localhost:8080/",
          "height": 121
        },
        "id": "YNCFwH7Igv_q",
        "outputId": "4816f263-4033-4e53-e9cf-fc72267505e6"
      },
      "execution_count": 8,
      "outputs": [
        {
          "output_type": "execute_result",
          "data": {
            "text/plain": [
              "tensorflow.python.data.ops.from_tensor_slices_op._TensorSliceDataset"
            ],
            "text/html": [
              "<div style=\"max-width:800px; border: 1px solid var(--colab-border-color);\"><style>\n",
              "      pre.function-repr-contents {\n",
              "        overflow-x: auto;\n",
              "        padding: 8px 12px;\n",
              "        max-height: 500px;\n",
              "      }\n",
              "\n",
              "      pre.function-repr-contents.function-repr-contents-collapsed {\n",
              "        cursor: pointer;\n",
              "        max-height: 100px;\n",
              "      }\n",
              "    </style>\n",
              "    <pre style=\"white-space: initial; background:\n",
              "         var(--colab-secondary-surface-color); padding: 8px 12px;\n",
              "         border-bottom: 1px solid var(--colab-border-color);\"><b>tensorflow.python.data.ops.from_tensor_slices_op._TensorSliceDataset</b><br/>def __init__(element, is_files=False, name=None)</pre><pre class=\"function-repr-contents function-repr-contents-collapsed\" style=\"\"><a class=\"filepath\" style=\"display:none\" href=\"#\">/usr/local/lib/python3.10/dist-packages/tensorflow/python/data/ops/from_tensor_slices_op.py</a>A `Dataset` of slices from a dataset element.</pre>\n",
              "      <script>\n",
              "      if (google.colab.kernel.accessAllowed && google.colab.files && google.colab.files.view) {\n",
              "        for (const element of document.querySelectorAll('.filepath')) {\n",
              "          element.style.display = 'block'\n",
              "          element.onclick = (event) => {\n",
              "            event.preventDefault();\n",
              "            event.stopPropagation();\n",
              "            google.colab.files.view(element.textContent, 28);\n",
              "          };\n",
              "        }\n",
              "      }\n",
              "      for (const element of document.querySelectorAll('.function-repr-contents')) {\n",
              "        element.onclick = (event) => {\n",
              "          event.preventDefault();\n",
              "          event.stopPropagation();\n",
              "          element.classList.toggle('function-repr-contents-collapsed');\n",
              "        };\n",
              "      }\n",
              "      </script>\n",
              "      </div>"
            ]
          },
          "metadata": {},
          "execution_count": 8
        }
      ]
    },
    {
      "cell_type": "code",
      "source": [
        "# prompt: mostrar todos os metodos do dataset_tf\n",
        "\n",
        "for method_name in dir(dataset_tf):\n",
        "  print(method_name)\n"
      ],
      "metadata": {
        "colab": {
          "base_uri": "https://localhost:8080/"
        },
        "id": "fTK17CeclS1P",
        "outputId": "96e3c90a-a7a6-468a-e162-6f1ed100d71a"
      },
      "execution_count": 9,
      "outputs": [
        {
          "output_type": "stream",
          "name": "stdout",
          "text": [
            "_GeneratorState\n",
            "__abstractmethods__\n",
            "__bool__\n",
            "__class__\n",
            "__class_getitem__\n",
            "__debug_string__\n",
            "__delattr__\n",
            "__dict__\n",
            "__dir__\n",
            "__doc__\n",
            "__eq__\n",
            "__format__\n",
            "__ge__\n",
            "__getattribute__\n",
            "__gt__\n",
            "__hash__\n",
            "__init__\n",
            "__init_subclass__\n",
            "__iter__\n",
            "__le__\n",
            "__len__\n",
            "__lt__\n",
            "__module__\n",
            "__ne__\n",
            "__new__\n",
            "__nonzero__\n",
            "__reduce__\n",
            "__reduce_ex__\n",
            "__repr__\n",
            "__setattr__\n",
            "__sizeof__\n",
            "__slots__\n",
            "__str__\n",
            "__subclasshook__\n",
            "__tf_tracing_type__\n",
            "__weakref__\n",
            "_abc_impl\n",
            "_add_trackable_child\n",
            "_add_variable_with_custom_getter\n",
            "_apply_debug_options\n",
            "_as_serialized_graph\n",
            "_checkpoint_dependencies\n",
            "_common_args\n",
            "_consumers\n",
            "_convert_variables_to_tensors\n",
            "_copy_trackable_to_cpu\n",
            "_deferred_dependencies\n",
            "_deserialization_dependencies\n",
            "_deserialize_from_proto\n",
            "_export_to_saved_model_graph\n",
            "_flat_shapes\n",
            "_flat_structure\n",
            "_flat_types\n",
            "_functions\n",
            "_gather_saveables_for_checkpoint\n",
            "_graph\n",
            "_graph_attr\n",
            "_handle_deferred_dependencies\n",
            "_inputs\n",
            "_lookup_dependency\n",
            "_maybe_initialize_trackable\n",
            "_maybe_track_assets\n",
            "_metadata\n",
            "_name\n",
            "_name_based_attribute_restore\n",
            "_name_based_restores\n",
            "_no_dependency\n",
            "_object_identifier\n",
            "_options\n",
            "_options_attr\n",
            "_options_tensor_to_options\n",
            "_preload_simple_restoration\n",
            "_restore_from_tensors\n",
            "_serialize_to_proto\n",
            "_serialize_to_tensors\n",
            "_setattr_tracking\n",
            "_shape_invariant_to_type_spec\n",
            "_structure\n",
            "_tensors\n",
            "_tf_api_names\n",
            "_tf_api_names_v1\n",
            "_trace_variant_creation\n",
            "_track_trackable\n",
            "_trackable_children\n",
            "_type_spec\n",
            "_unconditional_checkpoint_dependencies\n",
            "_unconditional_dependency_names\n",
            "_update_uid\n",
            "_variant_tensor\n",
            "_variant_tensor_attr\n",
            "apply\n",
            "as_numpy_iterator\n",
            "batch\n",
            "bucket_by_sequence_length\n",
            "cache\n",
            "cardinality\n",
            "choose_from_datasets\n",
            "concatenate\n",
            "counter\n",
            "element_spec\n",
            "enumerate\n",
            "filter\n",
            "flat_map\n",
            "from_generator\n",
            "from_tensor_slices\n",
            "from_tensors\n",
            "get_single_element\n",
            "group_by_window\n",
            "ignore_errors\n",
            "interleave\n",
            "list_files\n",
            "load\n",
            "map\n",
            "options\n",
            "padded_batch\n",
            "prefetch\n",
            "ragged_batch\n",
            "random\n",
            "range\n",
            "rebatch\n",
            "reduce\n",
            "rejection_resample\n",
            "repeat\n",
            "sample_from_datasets\n",
            "save\n",
            "scan\n",
            "shard\n",
            "shuffle\n",
            "skip\n",
            "snapshot\n",
            "sparse_batch\n",
            "take\n",
            "take_while\n",
            "unbatch\n",
            "unique\n",
            "window\n",
            "with_options\n",
            "zip\n"
          ]
        }
      ]
    },
    {
      "cell_type": "code",
      "source": [
        "#combines consecutive elements of this dataset into batches\n",
        "sequences = dataset_tf.batch(121, drop_remainder=True)"
      ],
      "metadata": {
        "id": "6zjOhOZAmSM2"
      },
      "execution_count": 10,
      "outputs": []
    },
    {
      "cell_type": "markdown",
      "source": [
        ". This technique is particularly useful for tasks that involve predicting a sequence of words based on another sequence of words. The sequence move forward to one character\n",
        "![image.png](data:image/png;base64,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)"
      ],
      "metadata": {
        "id": "BnWhTeeTxHYg"
      }
    },
    {
      "cell_type": "code",
      "source": [
        "def create_sequences_targets_window(window):\n",
        "    input_txt = window[:-1]\n",
        "    target_txt = window[1:]\n",
        "    return input_txt, target_txt\n",
        "\n",
        "dataset = sequences.map(create_sequences_targets_window)"
      ],
      "metadata": {
        "id": "-_T5Aiz0oNQ9"
      },
      "execution_count": 11,
      "outputs": []
    },
    {
      "cell_type": "code",
      "source": [
        "#print(\"dataset shape : {}\".format(dataset.shape()))\n",
        "for input_txt, target_txt in dataset.take(1):\n",
        "    print(\"length input {}\".format(len(input_txt)))\n",
        "    print(input_txt.numpy())\n",
        "    convert = \"\".join(text_char[i] for i in input_txt.numpy())\n",
        "    print(convert)\n",
        "    print(\"length target {}\".format(len(target_txt)))\n",
        "    print(target_txt.numpy())\n",
        "    convert = \"\".join(text_char[i] for i in target_txt.numpy())\n",
        "    print(convert)"
      ],
      "metadata": {
        "colab": {
          "base_uri": "https://localhost:8080/"
        },
        "id": "8MJvm1vgoBfH",
        "outputId": "d951e272-6c07-4b18-de4f-76e131e754b6"
      },
      "execution_count": 12,
      "outputs": [
        {
          "output_type": "stream",
          "name": "stdout",
          "text": [
            "length input 120\n",
            "[18 47 56 57 58  1 15 47 58 47 64 43 52 10  0 14 43 44 53 56 43  1 61 43\n",
            "  1 54 56 53 41 43 43 42  1 39 52 63  1 44 59 56 58 46 43 56  6  1 46 43\n",
            " 39 56  1 51 43  1 57 54 43 39 49  8  0  0 13 50 50 10  0 31 54 43 39 49\n",
            "  6  1 57 54 43 39 49  8  0  0 18 47 56 57 58  1 15 47 58 47 64 43 52 10\n",
            "  0 37 53 59  1 39 56 43  1 39 50 50  1 56 43 57 53 50 60 43 42  1 56 39]\n",
            "First Citizen:\n",
            "Before we proceed any further, hear me speak.\n",
            "\n",
            "All:\n",
            "Speak, speak.\n",
            "\n",
            "First Citizen:\n",
            "You are all resolved ra\n",
            "length target 120\n",
            "[47 56 57 58  1 15 47 58 47 64 43 52 10  0 14 43 44 53 56 43  1 61 43  1\n",
            " 54 56 53 41 43 43 42  1 39 52 63  1 44 59 56 58 46 43 56  6  1 46 43 39\n",
            " 56  1 51 43  1 57 54 43 39 49  8  0  0 13 50 50 10  0 31 54 43 39 49  6\n",
            "  1 57 54 43 39 49  8  0  0 18 47 56 57 58  1 15 47 58 47 64 43 52 10  0\n",
            " 37 53 59  1 39 56 43  1 39 50 50  1 56 43 57 53 50 60 43 42  1 56 39 58]\n",
            "irst Citizen:\n",
            "Before we proceed any further, hear me speak.\n",
            "\n",
            "All:\n",
            "Speak, speak.\n",
            "\n",
            "First Citizen:\n",
            "You are all resolved rat\n"
          ]
        }
      ]
    },
    {
      "cell_type": "markdown",
      "source": [
        "# Shuffle dataset\n",
        "\n",
        "Shuffling the training data before each epoch is crucial in NLP to prevent the model from memorizing the data and to enhance generalization. By randomizing the sequence of data points, each epoch exposes the model to different patterns, improving its ability to learn underlying representations"
      ],
      "metadata": {
        "id": "VMHOfybceCPQ"
      }
    },
    {
      "cell_type": "code",
      "source": [
        "'''\n",
        "batch size = size for each mini-batch\n",
        "drop remainder - means that if set true, this parameter ensures that any remaining\n",
        "elements* are dropped\n",
        "(*if the total number of elements is not divisible by the batch size) '''\n",
        "dataset = dataset.shuffle(buffer_size=10000).batch(batch_size=128, drop_remainder=True)"
      ],
      "metadata": {
        "id": "6V_r0nnw5Dl-"
      },
      "execution_count": 13,
      "outputs": []
    },
    {
      "cell_type": "markdown",
      "source": [
        "\n",
        "shapes 128 refers batch size and 120 sequence of characters long\n",
        "\n",
        "![image.png](data:image/png;base64,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)"
      ],
      "metadata": {
        "id": "9Ls9tIs1zXyI"
      }
    },
    {
      "cell_type": "code",
      "source": [
        "dataset"
      ],
      "metadata": {
        "colab": {
          "base_uri": "https://localhost:8080/"
        },
        "id": "qvNnY2s85lAe",
        "outputId": "b7bb9831-b907-40ad-a8a4-61bd35789696"
      },
      "execution_count": 14,
      "outputs": [
        {
          "output_type": "execute_result",
          "data": {
            "text/plain": [
              "<_BatchDataset element_spec=(TensorSpec(shape=(128, 120), dtype=tf.int64, name=None), TensorSpec(shape=(128, 120), dtype=tf.int64, name=None))>"
            ]
          },
          "metadata": {},
          "execution_count": 14
        }
      ]
    },
    {
      "cell_type": "markdown",
      "source": [
        "Dimension embedding 256. And number  of neurons is 1024\n",
        "# layers\n",
        "## First layers\n",
        "  - Map words\n",
        "\n",
        "## second layer - GRU\n",
        "\n",
        "A Gated Recurrent Unit (GRU) is a type of artificial neural network layer that is specifically designed to handle sequential data, such as text, speech, or time series data. GRU layers are a type of recurrent neural network (RNN), which are networks that can learn dependencies between elements in a sequence.\n",
        "![image.png](data:image/png;base64,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)\n",
        "\n",
        "# Glorot uniform\n",
        "referring to how weights are initialized:\n",
        "Glorot uniform initialization draws random values for the weights from a uniform distribution within a specific range. The range is determined based on the fan-in and fan-out of the weight matrix.\n",
        "\n",
        "Fan-in: The number of connections coming into a neuron or layer.\n",
        "Fan-out: The number of connections going out from a neuron or layer.\n",
        "The formula for the range of the uniform distribution is:\n",
        "\n",
        "limit = sqrt(6 / (fan_in + fan_out))"
      ],
      "metadata": {
        "id": "Sw2dLew8Edo-"
      }
    },
    {
      "cell_type": "code",
      "source": [
        "# create model\n",
        "from tensorflow.keras.models import Sequential\n",
        "from tensorflow.keras.layers import Embedding, GRU, LSTM, Dense\n",
        "\n",
        "vocab_size = len(text_char)\n",
        "embedding_dim = 64\n",
        "rnn_units = 1026\n",
        "batch_size=128\n",
        "\n",
        "# two way to create layers\n",
        "# first way\n",
        "# model = tf.keras.Sequential([\n",
        "#    tf.keras.layers.Embedding(vocab_size, embedding_dim),\n",
        "#    tf.keras.layers.LSTM(rnn_units,\n",
        "#                          return_sequences=True,\n",
        "#                          stateful=True,\n",
        "#                          recurrent_initializer='glorot_uniform'),\n",
        "#    tf.keras.layers.Dense(vocab_size)\n",
        "#])\n",
        "#\n",
        "model = tf.keras.Sequential()\n",
        "model.add(Embedding(vocab_size, embedding_dim, batch_input_shape=[batch_size, None]))\n",
        "model.add(GRU(rnn_units,\n",
        "              return_sequences=True,\n",
        "              stateful=True,\n",
        "              recurrent_initializer='glorot_uniform'))\n",
        "model.add(tf.keras.layers.Dense(vocab_size))\n",
        "summary = model.summary()\n",
        "print(summary)\n"
      ],
      "metadata": {
        "colab": {
          "base_uri": "https://localhost:8080/"
        },
        "id": "wKcjrOhm5pYm",
        "outputId": "73dd337e-d14f-4da2-f4e2-ef3033a631b4"
      },
      "execution_count": 15,
      "outputs": [
        {
          "output_type": "stream",
          "name": "stdout",
          "text": [
            "Model: \"sequential\"\n",
            "_________________________________________________________________\n",
            " Layer (type)                Output Shape              Param #   \n",
            "=================================================================\n",
            " embedding (Embedding)       (128, None, 64)           4160      \n",
            "                                                                 \n",
            " gru (GRU)                   (128, None, 1026)         3361176   \n",
            "                                                                 \n",
            " dense (Dense)               (128, None, 65)           66755     \n",
            "                                                                 \n",
            "=================================================================\n",
            "Total params: 3432091 (13.09 MB)\n",
            "Trainable params: 3432091 (13.09 MB)\n",
            "Non-trainable params: 0 (0.00 Byte)\n",
            "_________________________________________________________________\n",
            "None\n"
          ]
        }
      ]
    },
    {
      "cell_type": "code",
      "source": [
        "from tensorflow.keras.losses import sparse_categorical_crossentropy\n",
        "from tensorflow.keras.optimizers import Adam\n",
        "# create callback for change de parameter from_logits, because the default is false\n",
        "def sparse_categorical_crossentropy_with_logits(y_true, y_pred):\n",
        "  return sparse_categorical_crossentropy(y_true,y_pred, from_logits=True)\n",
        "model.compile(optimizer=Adam(learning_rate=0.001), loss=sparse_categorical_crossentropy_with_logits)\n"
      ],
      "metadata": {
        "id": "JNaSlgMKGVD3"
      },
      "execution_count": 16,
      "outputs": []
    },
    {
      "cell_type": "code",
      "source": [
        "for input_example_batch, target_example_batch in dataset.take(1):\n",
        "  example_batch_predictions = model(input_example_batch)\n",
        "  print(example_batch_predictions.shape, \"# (batch_size, sequence_length, vocab_size)\")"
      ],
      "metadata": {
        "colab": {
          "base_uri": "https://localhost:8080/"
        },
        "id": "BVLl7xvoSyWc",
        "outputId": "e04795ff-1548-4aec-ffda-8beaaa1d663b"
      },
      "execution_count": 17,
      "outputs": [
        {
          "output_type": "stream",
          "name": "stdout",
          "text": [
            "(128, 120, 65) # (batch_size, sequence_length, vocab_size)\n"
          ]
        }
      ]
    },
    {
      "cell_type": "code",
      "source": [
        "# all the probabilities in second prediction\n",
        "example_batch_predictions[1]"
      ],
      "metadata": {
        "colab": {
          "base_uri": "https://localhost:8080/"
        },
        "id": "8lsIOFMOLb8v",
        "outputId": "ba3f4335-3b0d-4db6-f021-23777f6388a1"
      },
      "execution_count": 23,
      "outputs": [
        {
          "output_type": "execute_result",
          "data": {
            "text/plain": [
              "<tf.Tensor: shape=(120, 65), dtype=float32, numpy=\n",
              "array([[-0.00286526,  0.00482637,  0.00334095, ...,  0.00193148,\n",
              "        -0.00051206,  0.00704989],\n",
              "       [ 0.00050888,  0.00943156,  0.00108209, ..., -0.00304685,\n",
              "        -0.00420586, -0.00352121],\n",
              "       [ 0.00238268,  0.00472726,  0.00058329, ..., -0.00104468,\n",
              "        -0.00983431, -0.00530327],\n",
              "       ...,\n",
              "       [-0.0075376 ,  0.00842076,  0.00131395, ..., -0.00015393,\n",
              "        -0.00099854, -0.00035444],\n",
              "       [-0.00435139, -0.00117312, -0.00164317, ..., -0.0031745 ,\n",
              "        -0.0024741 ,  0.00174661],\n",
              "       [-0.00062959, -0.00230477, -0.00060364, ...,  0.00124461,\n",
              "        -0.00704441, -0.00368282]], dtype=float32)>"
            ]
          },
          "metadata": {},
          "execution_count": 23
        }
      ]
    },
    {
      "cell_type": "code",
      "source": [
        "# sample of indice of characters\n",
        "results = tf.random.categorical(example_batch_predictions[0], num_samples=1)"
      ],
      "metadata": {
        "id": "jyHRylRHBWOQ"
      },
      "execution_count": 27,
      "outputs": []
    },
    {
      "cell_type": "code",
      "source": [
        "results"
      ],
      "metadata": {
        "collapsed": true,
        "colab": {
          "base_uri": "https://localhost:8080/"
        },
        "id": "NlvxgXUoDyZ_",
        "outputId": "5ba2c23f-c3a9-4ed0-a2b5-a1a4c4d485e1"
      },
      "execution_count": 28,
      "outputs": [
        {
          "output_type": "execute_result",
          "data": {
            "text/plain": [
              "<tf.Tensor: shape=(120, 1), dtype=int64, numpy=\n",
              "array([[64],\n",
              "       [23],\n",
              "       [ 3],\n",
              "       [64],\n",
              "       [19],\n",
              "       [12],\n",
              "       [21],\n",
              "       [45],\n",
              "       [40],\n",
              "       [34],\n",
              "       [44],\n",
              "       [ 4],\n",
              "       [41],\n",
              "       [52],\n",
              "       [43],\n",
              "       [25],\n",
              "       [45],\n",
              "       [38],\n",
              "       [53],\n",
              "       [45],\n",
              "       [57],\n",
              "       [25],\n",
              "       [28],\n",
              "       [60],\n",
              "       [62],\n",
              "       [59],\n",
              "       [ 7],\n",
              "       [54],\n",
              "       [23],\n",
              "       [45],\n",
              "       [10],\n",
              "       [19],\n",
              "       [21],\n",
              "       [21],\n",
              "       [43],\n",
              "       [63],\n",
              "       [54],\n",
              "       [10],\n",
              "       [61],\n",
              "       [60],\n",
              "       [38],\n",
              "       [ 4],\n",
              "       [64],\n",
              "       [45],\n",
              "       [ 4],\n",
              "       [24],\n",
              "       [44],\n",
              "       [17],\n",
              "       [22],\n",
              "       [25],\n",
              "       [30],\n",
              "       [40],\n",
              "       [51],\n",
              "       [41],\n",
              "       [21],\n",
              "       [33],\n",
              "       [37],\n",
              "       [ 2],\n",
              "       [11],\n",
              "       [53],\n",
              "       [43],\n",
              "       [63],\n",
              "       [13],\n",
              "       [49],\n",
              "       [ 2],\n",
              "       [ 8],\n",
              "       [41],\n",
              "       [27],\n",
              "       [23],\n",
              "       [ 3],\n",
              "       [63],\n",
              "       [53],\n",
              "       [28],\n",
              "       [59],\n",
              "       [38],\n",
              "       [37],\n",
              "       [ 8],\n",
              "       [26],\n",
              "       [25],\n",
              "       [ 1],\n",
              "       [17],\n",
              "       [40],\n",
              "       [ 2],\n",
              "       [60],\n",
              "       [55],\n",
              "       [53],\n",
              "       [59],\n",
              "       [16],\n",
              "       [46],\n",
              "       [38],\n",
              "       [44],\n",
              "       [28],\n",
              "       [11],\n",
              "       [45],\n",
              "       [31],\n",
              "       [ 7],\n",
              "       [32],\n",
              "       [ 5],\n",
              "       [40],\n",
              "       [35],\n",
              "       [35],\n",
              "       [63],\n",
              "       [53],\n",
              "       [63],\n",
              "       [21],\n",
              "       [ 4],\n",
              "       [ 1],\n",
              "       [42],\n",
              "       [53],\n",
              "       [ 5],\n",
              "       [52],\n",
              "       [ 6],\n",
              "       [45],\n",
              "       [59],\n",
              "       [60],\n",
              "       [22],\n",
              "       [45],\n",
              "       [ 3],\n",
              "       [54],\n",
              "       [44]])>"
            ]
          },
          "metadata": {},
          "execution_count": 28
        }
      ]
    },
    {
      "cell_type": "code",
      "source": [
        "# removes dimensions of size 1 from the shape of a tensor\n",
        "results = tf.squeeze(results, axis=1).numpy()\n",
        "results"
      ],
      "metadata": {
        "colab": {
          "base_uri": "https://localhost:8080/"
        },
        "id": "ZdFq5tIwDGzy",
        "outputId": "c6a8f46e-2dfc-473b-a3ef-cc25dfcac828"
      },
      "execution_count": 30,
      "outputs": [
        {
          "output_type": "execute_result",
          "data": {
            "text/plain": [
              "array([64, 23,  3, 64, 19, 12, 21, 45, 40, 34, 44,  4, 41, 52, 43, 25, 45,\n",
              "       38, 53, 45, 57, 25, 28, 60, 62, 59,  7, 54, 23, 45, 10, 19, 21, 21,\n",
              "       43, 63, 54, 10, 61, 60, 38,  4, 64, 45,  4, 24, 44, 17, 22, 25, 30,\n",
              "       40, 51, 41, 21, 33, 37,  2, 11, 53, 43, 63, 13, 49,  2,  8, 41, 27,\n",
              "       23,  3, 63, 53, 28, 59, 38, 37,  8, 26, 25,  1, 17, 40,  2, 60, 55,\n",
              "       53, 59, 16, 46, 38, 44, 28, 11, 45, 31,  7, 32,  5, 40, 35, 35, 63,\n",
              "       53, 63, 21,  4,  1, 42, 53,  5, 52,  6, 45, 59, 60, 22, 45,  3, 54,\n",
              "       44])"
            ]
          },
          "metadata": {},
          "execution_count": 30
        }
      ]
    },
    {
      "cell_type": "code",
      "source": [
        "np.array(text_char)[results]"
      ],
      "metadata": {
        "colab": {
          "base_uri": "https://localhost:8080/"
        },
        "id": "HAQxv-RRD5n-",
        "outputId": "6aed234a-ee2e-4768-cdff-a880a6c2f0c9"
      },
      "execution_count": 37,
      "outputs": [
        {
          "output_type": "execute_result",
          "data": {
            "text/plain": [
              "array(['z', 'K', '$', 'z', 'G', '?', 'I', 'g', 'b', 'V', 'f', '&', 'c',\n",
              "       'n', 'e', 'M', 'g', 'Z', 'o', 'g', 's', 'M', 'P', 'v', 'x', 'u',\n",
              "       '-', 'p', 'K', 'g', ':', 'G', 'I', 'I', 'e', 'y', 'p', ':', 'w',\n",
              "       'v', 'Z', '&', 'z', 'g', '&', 'L', 'f', 'E', 'J', 'M', 'R', 'b',\n",
              "       'm', 'c', 'I', 'U', 'Y', '!', ';', 'o', 'e', 'y', 'A', 'k', '!',\n",
              "       '.', 'c', 'O', 'K', '$', 'y', 'o', 'P', 'u', 'Z', 'Y', '.', 'N',\n",
              "       'M', ' ', 'E', 'b', '!', 'v', 'q', 'o', 'u', 'D', 'h', 'Z', 'f',\n",
              "       'P', ';', 'g', 'S', '-', 'T', \"'\", 'b', 'W', 'W', 'y', 'o', 'y',\n",
              "       'I', '&', ' ', 'd', 'o', \"'\", 'n', ',', 'g', 'u', 'v', 'J', 'g',\n",
              "       '$', 'p', 'f'], dtype='<U1')"
            ]
          },
          "metadata": {},
          "execution_count": 37
        }
      ]
    },
    {
      "cell_type": "code",
      "source": [
        "model.fit(dataset, epochs=30)"
      ],
      "metadata": {
        "colab": {
          "base_uri": "https://localhost:8080/"
        },
        "id": "Sy2eZWqNH9b_",
        "outputId": "db71b88c-f3ea-4ab5-eba8-fd4b06d5f6f1"
      },
      "execution_count": null,
      "outputs": [
        {
          "output_type": "stream",
          "name": "stdout",
          "text": [
            "Epoch 1/30\n",
            "31/72 [===========>..................] - ETA: 5:13 - loss: 3.9622"
          ]
        }
      ]
    },
    {
      "cell_type": "code",
      "source": [
        "from tensorflow.keras.models import load_model\n",
        "model.save('my_model.h5')"
      ],
      "metadata": {
        "id": "oNF5PT0mI5CW"
      },
      "execution_count": null,
      "outputs": []
    }
  ]
}